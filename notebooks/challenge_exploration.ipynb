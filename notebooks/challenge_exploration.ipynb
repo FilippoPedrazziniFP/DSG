{
 "cells": [
  {
   "cell_type": "code",
   "execution_count": 2,
   "metadata": {
    "collapsed": true
   },
   "outputs": [],
   "source": [
    "%matplotlib inline\n",
    "import pandas as pd\n",
    "import matplotlib\n",
    "import numpy as np\n",
    "import matplotlib.pyplot as plt\n",
    "CHALLENGE_DATA = \"../data/Challenge_20180423.csv\""
   ]
  },
  {
   "cell_type": "code",
   "execution_count": 3,
   "metadata": {
    "collapsed": true
   },
   "outputs": [],
   "source": [
    "df_challenge = pd.read_csv(CHALLENGE_DATA)"
   ]
  },
  {
   "cell_type": "code",
   "execution_count": 4,
   "metadata": {},
   "outputs": [
    {
     "name": "stdout",
     "output_type": "stream",
     "text": [
      "Overview\n",
      "  PredictionIdx   DateKey  CustomerIdx  IsinIdx BuySell  CustomerInterest\n",
      "0    a1e0d80784  20180423         1856    13323     Buy               NaN\n",
      "1    c2cc6cc2a8  20180423         1856     9230     Buy               NaN\n",
      "2    a8e94f6344  20180423         1780     9157     Buy               NaN\n",
      "3    758bae1e35  20180423         2129     9131     Buy               NaN\n",
      "4    02ab378ee8  20180423         1758     7151     Buy               NaN\n",
      "          DateKey    CustomerIdx        IsinIdx  CustomerInterest\n",
      "count    484758.0  484758.000000  484758.000000               0.0\n",
      "mean   20180423.0    1936.835749   15572.977102               NaN\n",
      "std           0.0     869.365212    8381.691252               NaN\n",
      "min    20180423.0       0.000000       1.000000               NaN\n",
      "25%    20180423.0    1288.000000    7950.000000               NaN\n",
      "50%    20180423.0    2106.000000   15592.000000               NaN\n",
      "75%    20180423.0    2574.000000   23841.000000               NaN\n",
      "max    20180423.0    3470.000000   27344.000000               NaN\n"
     ]
    }
   ],
   "source": [
    "print(\"Overview\")\n",
    "print(df_challenge.head(5))\n",
    "print(df_challenge.describe())"
   ]
  },
  {
   "cell_type": "code",
   "execution_count": 7,
   "metadata": {},
   "outputs": [
    {
     "name": "stdout",
     "output_type": "stream",
     "text": [
      "         PredictionIdx  DateKey  CustomerIdx  BuySell  CustomerInterest\n",
      "IsinIdx                                                                \n",
      "1                   20       20           20       20                 0\n",
      "7                   68       68           68       68                 0\n",
      "15                  14       14           14       14                 0\n",
      "19                   2        2            2        2                 0\n",
      "21                  42       42           42       42                 0\n",
      "23                  10       10           10       10                 0\n",
      "24                  34       34           34       34                 0\n",
      "29                  36       36           36       36                 0\n",
      "30                  24       24           24       24                 0\n",
      "31                  28       28           28       28                 0\n",
      "32                   2        2            2        2                 0\n",
      "41                   8        8            8        8                 0\n",
      "67                   2        2            2        2                 0\n",
      "69                  12       12           12       12                 0\n",
      "70                   2        2            2        2                 0\n",
      "71                  24       24           24       24                 0\n",
      "73                  12       12           12       12                 0\n",
      "75                  10       10           10       10                 0\n",
      "76                  52       52           52       52                 0\n",
      "77                  76       76           76       76                 0\n",
      "79                  14       14           14       14                 0\n",
      "81                  20       20           20       20                 0\n",
      "82                  26       26           26       26                 0\n",
      "83                   8        8            8        8                 0\n",
      "85                  30       30           30       30                 0\n",
      "86                  18       18           18       18                 0\n",
      "87                  14       14           14       14                 0\n",
      "88                   2        2            2        2                 0\n",
      "89                   4        4            4        4                 0\n",
      "91                   2        2            2        2                 0\n",
      "...                ...      ...          ...      ...               ...\n",
      "27285               44       44           44       44                 0\n",
      "27286                2        2            2        2                 0\n",
      "27287               46       46           46       46                 0\n",
      "27289                4        4            4        4                 0\n",
      "27290                4        4            4        4                 0\n",
      "27291               12       12           12       12                 0\n",
      "27292               14       14           14       14                 0\n",
      "27293                6        6            6        6                 0\n",
      "27294               80       80           80       80                 0\n",
      "27295               12       12           12       12                 0\n",
      "27296                2        2            2        2                 0\n",
      "27300               34       34           34       34                 0\n",
      "27301               60       60           60       60                 0\n",
      "27302               20       20           20       20                 0\n",
      "27303               10       10           10       10                 0\n",
      "27304                8        8            8        8                 0\n",
      "27305                4        4            4        4                 0\n",
      "27306                6        6            6        6                 0\n",
      "27307                4        4            4        4                 0\n",
      "27310               16       16           16       16                 0\n",
      "27311               36       36           36       36                 0\n",
      "27312               46       46           46       46                 0\n",
      "27314               16       16           16       16                 0\n",
      "27315                8        8            8        8                 0\n",
      "27316               22       22           22       22                 0\n",
      "27321                4        4            4        4                 0\n",
      "27341                6        6            6        6                 0\n",
      "27342               10       10           10       10                 0\n",
      "27343               40       40           40       40                 0\n",
      "27344               26       26           26       26                 0\n",
      "\n",
      "[18265 rows x 5 columns]\n"
     ]
    }
   ],
   "source": [
    "print(df_challenge.groupby(\"IsinIdx\").count())"
   ]
  },
  {
   "cell_type": "code",
   "execution_count": null,
   "metadata": {
    "collapsed": true
   },
   "outputs": [],
   "source": []
  }
 ],
 "metadata": {
  "kernelspec": {
   "display_name": "Python 3",
   "language": "python",
   "name": "python3"
  },
  "language_info": {
   "codemirror_mode": {
    "name": "ipython",
    "version": 3
   },
   "file_extension": ".py",
   "mimetype": "text/x-python",
   "name": "python",
   "nbconvert_exporter": "python",
   "pygments_lexer": "ipython3",
   "version": "3.6.1"
  }
 },
 "nbformat": 4,
 "nbformat_minor": 2
}
