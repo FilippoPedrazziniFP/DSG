{
 "cells": [
  {
   "cell_type": "code",
   "execution_count": 5,
   "metadata": {
    "collapsed": true
   },
   "outputs": [],
   "source": [
    "%matplotlib inline\n",
    "import pandas as pd\n",
    "import matplotlib\n",
    "import numpy as np\n",
    "import matplotlib.pyplot as plt\n",
    "CHALLENGE_DATA = \"../data/Challenge_20180423.csv\""
   ]
  },
  {
   "cell_type": "code",
   "execution_count": 6,
   "metadata": {
    "collapsed": true
   },
   "outputs": [],
   "source": [
    "df_challenge = pd.read_csv(CHALLENGE_DATA)"
   ]
  },
  {
   "cell_type": "code",
   "execution_count": 7,
   "metadata": {},
   "outputs": [
    {
     "name": "stdout",
     "output_type": "stream",
     "text": [
      "Overview\n",
      "  PredictionIdx   DateKey  CustomerIdx  IsinIdx BuySell  CustomerInterest\n",
      "0    a1e0d80784  20180423         1856    13323     Buy               NaN\n",
      "1    c2cc6cc2a8  20180423         1856     9230     Buy               NaN\n",
      "2    a8e94f6344  20180423         1780     9157     Buy               NaN\n",
      "3    758bae1e35  20180423         2129     9131     Buy               NaN\n",
      "4    02ab378ee8  20180423         1758     7151     Buy               NaN\n",
      "          DateKey    CustomerIdx        IsinIdx  CustomerInterest\n",
      "count    484758.0  484758.000000  484758.000000               0.0\n",
      "mean   20180423.0    1936.835749   15572.977102               NaN\n",
      "std           0.0     869.365212    8381.691252               NaN\n",
      "min    20180423.0       0.000000       1.000000               NaN\n",
      "25%    20180423.0    1288.000000    7950.000000               NaN\n",
      "50%    20180423.0    2106.000000   15592.000000               NaN\n",
      "75%    20180423.0    2574.000000   23841.000000               NaN\n",
      "max    20180423.0    3470.000000   27344.000000               NaN\n"
     ]
    }
   ],
   "source": [
    "print(\"Overview\")\n",
    "print(df_challenge.head(5))\n",
    "print(df_challenge.describe())"
   ]
  },
  {
   "cell_type": "code",
   "execution_count": 4,
   "metadata": {},
   "outputs": [
    {
     "name": "stdout",
     "output_type": "stream",
     "text": [
      "             PredictionIdx  DateKey  IsinIdx  BuySell  CustomerInterest\n",
      "CustomerIdx                                                            \n",
      "0                       14       14       14       14                 0\n",
      "1                        6        6        6        6                 0\n",
      "2                       18       18       18       18                 0\n",
      "4                       12       12       12       12                 0\n",
      "5                       38       38       38       38                 0\n",
      "6                       20       20       20       20                 0\n",
      "7                        2        2        2        2                 0\n",
      "8                       22       22       22       22                 0\n",
      "9                       26       26       26       26                 0\n",
      "11                      14       14       14       14                 0\n",
      "14                     236      236      236      236                 0\n",
      "16                      18       18       18       18                 0\n",
      "18                       8        8        8        8                 0\n",
      "19                     178      178      178      178                 0\n",
      "20                      10       10       10       10                 0\n",
      "21                      32       32       32       32                 0\n",
      "22                      40       40       40       40                 0\n",
      "26                       2        2        2        2                 0\n",
      "27                       2        2        2        2                 0\n",
      "28                       4        4        4        4                 0\n",
      "30                       2        2        2        2                 0\n",
      "31                     192      192      192      192                 0\n",
      "32                     158      158      158      158                 0\n",
      "34                      70       70       70       70                 0\n",
      "35                      44       44       44       44                 0\n",
      "37                     118      118      118      118                 0\n",
      "40                       2        2        2        2                 0\n",
      "41                       2        2        2        2                 0\n",
      "42                      10       10       10       10                 0\n",
      "43                     200      200      200      200                 0\n",
      "...                    ...      ...      ...      ...               ...\n",
      "3432                     4        4        4        4                 0\n",
      "3433                     2        2        2        2                 0\n",
      "3434                     4        4        4        4                 0\n",
      "3435                    12       12       12       12                 0\n",
      "3437                    38       38       38       38                 0\n",
      "3438                    60       60       60       60                 0\n",
      "3441                     2        2        2        2                 0\n",
      "3442                   170      170      170      170                 0\n",
      "3443                     2        2        2        2                 0\n",
      "3444                     6        6        6        6                 0\n",
      "3445                   194      194      194      194                 0\n",
      "3446                     2        2        2        2                 0\n",
      "3447                     2        2        2        2                 0\n",
      "3450                    48       48       48       48                 0\n",
      "3451                    58       58       58       58                 0\n",
      "3452                     2        2        2        2                 0\n",
      "3453                    16       16       16       16                 0\n",
      "3455                    32       32       32       32                 0\n",
      "3456                     2        2        2        2                 0\n",
      "3457                    18       18       18       18                 0\n",
      "3458                     2        2        2        2                 0\n",
      "3460                    24       24       24       24                 0\n",
      "3461                     4        4        4        4                 0\n",
      "3463                    28       28       28       28                 0\n",
      "3464                    26       26       26       26                 0\n",
      "3465                   154      154      154      154                 0\n",
      "3466                     4        4        4        4                 0\n",
      "3468                    12       12       12       12                 0\n",
      "3469                     2        2        2        2                 0\n",
      "3470                    60       60       60       60                 0\n",
      "\n",
      "[2495 rows x 5 columns]\n"
     ]
    }
   ],
   "source": [
    "print(df_challenge.groupby(\"CustomerIdx\").count())"
   ]
  },
  {
   "cell_type": "code",
   "execution_count": null,
   "metadata": {
    "collapsed": true
   },
   "outputs": [],
   "source": []
  }
 ],
 "metadata": {
  "kernelspec": {
   "display_name": "Python 3",
   "language": "python",
   "name": "python3"
  },
  "language_info": {
   "codemirror_mode": {
    "name": "ipython",
    "version": 3
   },
   "file_extension": ".py",
   "mimetype": "text/x-python",
   "name": "python",
   "nbconvert_exporter": "python",
   "pygments_lexer": "ipython3",
   "version": "3.6.1"
  }
 },
 "nbformat": 4,
 "nbformat_minor": 2
}
