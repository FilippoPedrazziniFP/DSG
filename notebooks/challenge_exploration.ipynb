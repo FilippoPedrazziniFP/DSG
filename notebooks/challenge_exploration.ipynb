{
 "cells": [
  {
   "cell_type": "code",
   "execution_count": 1,
   "metadata": {
    "collapsed": true
   },
   "outputs": [],
   "source": [
    "%matplotlib inline\n",
    "import pandas as pd\n",
    "import matplotlib\n",
    "import numpy as np\n",
    "import matplotlib.pyplot as plt\n",
    "CHALLENGE_DATA = \"../data/Challenge_20180423.csv\""
   ]
  },
  {
   "cell_type": "code",
   "execution_count": 2,
   "metadata": {
    "collapsed": true
   },
   "outputs": [],
   "source": [
    "df_challenge = pd.read_csv(CHALLENGE_DATA)"
   ]
  },
  {
   "cell_type": "code",
   "execution_count": 3,
   "metadata": {},
   "outputs": [
    {
     "name": "stdout",
     "output_type": "stream",
     "text": [
      "Overview\n",
      "  PredictionIdx   DateKey  CustomerIdx  IsinIdx BuySell  CustomerInterest\n",
      "0    a1e0d80784  20180423         1856    13323     Buy               NaN\n",
      "1    c2cc6cc2a8  20180423         1856     9230     Buy               NaN\n",
      "2    a8e94f6344  20180423         1780     9157     Buy               NaN\n",
      "3    758bae1e35  20180423         2129     9131     Buy               NaN\n",
      "4    02ab378ee8  20180423         1758     7151     Buy               NaN\n",
      "          DateKey    CustomerIdx        IsinIdx  CustomerInterest\n",
      "count    484758.0  484758.000000  484758.000000               0.0\n",
      "mean   20180423.0    1936.835749   15572.977102               NaN\n",
      "std           0.0     869.365212    8381.691252               NaN\n",
      "min    20180423.0       0.000000       1.000000               NaN\n",
      "25%    20180423.0    1288.000000    7950.000000               NaN\n",
      "50%    20180423.0    2106.000000   15592.000000               NaN\n",
      "75%    20180423.0    2574.000000   23841.000000               NaN\n",
      "max    20180423.0    3470.000000   27344.000000               NaN\n"
     ]
    }
   ],
   "source": [
    "print(\"Overview\")\n",
    "print(df_challenge.head(5))\n",
    "print(df_challenge.describe())"
   ]
  },
  {
   "cell_type": "code",
   "execution_count": 7,
   "metadata": {},
   "outputs": [
    {
     "data": {
      "text/html": [
       "<div>\n",
       "<style>\n",
       "    .dataframe thead tr:only-child th {\n",
       "        text-align: right;\n",
       "    }\n",
       "\n",
       "    .dataframe thead th {\n",
       "        text-align: left;\n",
       "    }\n",
       "\n",
       "    .dataframe tbody tr th {\n",
       "        vertical-align: top;\n",
       "    }\n",
       "</style>\n",
       "<table border=\"1\" class=\"dataframe\">\n",
       "  <thead>\n",
       "    <tr style=\"text-align: right;\">\n",
       "      <th></th>\n",
       "      <th>PredictionIdx</th>\n",
       "      <th>DateKey</th>\n",
       "      <th>CustomerInterest</th>\n",
       "    </tr>\n",
       "  </thead>\n",
       "  <tbody>\n",
       "    <tr>\n",
       "      <th>count</th>\n",
       "      <td>484758.0</td>\n",
       "      <td>484758.0</td>\n",
       "      <td>484758.0</td>\n",
       "    </tr>\n",
       "    <tr>\n",
       "      <th>mean</th>\n",
       "      <td>1.0</td>\n",
       "      <td>1.0</td>\n",
       "      <td>0.0</td>\n",
       "    </tr>\n",
       "    <tr>\n",
       "      <th>std</th>\n",
       "      <td>0.0</td>\n",
       "      <td>0.0</td>\n",
       "      <td>0.0</td>\n",
       "    </tr>\n",
       "    <tr>\n",
       "      <th>min</th>\n",
       "      <td>1.0</td>\n",
       "      <td>1.0</td>\n",
       "      <td>0.0</td>\n",
       "    </tr>\n",
       "    <tr>\n",
       "      <th>25%</th>\n",
       "      <td>1.0</td>\n",
       "      <td>1.0</td>\n",
       "      <td>0.0</td>\n",
       "    </tr>\n",
       "    <tr>\n",
       "      <th>50%</th>\n",
       "      <td>1.0</td>\n",
       "      <td>1.0</td>\n",
       "      <td>0.0</td>\n",
       "    </tr>\n",
       "    <tr>\n",
       "      <th>75%</th>\n",
       "      <td>1.0</td>\n",
       "      <td>1.0</td>\n",
       "      <td>0.0</td>\n",
       "    </tr>\n",
       "    <tr>\n",
       "      <th>max</th>\n",
       "      <td>1.0</td>\n",
       "      <td>1.0</td>\n",
       "      <td>0.0</td>\n",
       "    </tr>\n",
       "  </tbody>\n",
       "</table>\n",
       "</div>"
      ],
      "text/plain": [
       "       PredictionIdx   DateKey  CustomerInterest\n",
       "count       484758.0  484758.0          484758.0\n",
       "mean             1.0       1.0               0.0\n",
       "std              0.0       0.0               0.0\n",
       "min              1.0       1.0               0.0\n",
       "25%              1.0       1.0               0.0\n",
       "50%              1.0       1.0               0.0\n",
       "75%              1.0       1.0               0.0\n",
       "max              1.0       1.0               0.0"
      ]
     },
     "execution_count": 7,
     "metadata": {},
     "output_type": "execute_result"
    }
   ],
   "source": [
    "df_challenge.groupby([\"CustomerIdx\", \"IsinIdx\", \"BuySell\"]).count().describe()"
   ]
  },
  {
   "cell_type": "code",
   "execution_count": null,
   "metadata": {
    "collapsed": true
   },
   "outputs": [],
   "source": []
  }
 ],
 "metadata": {
  "kernelspec": {
   "display_name": "Python 3",
   "language": "python",
   "name": "python3"
  },
  "language_info": {
   "codemirror_mode": {
    "name": "ipython",
    "version": 3
   },
   "file_extension": ".py",
   "mimetype": "text/x-python",
   "name": "python",
   "nbconvert_exporter": "python",
   "pygments_lexer": "ipython3",
   "version": "3.6.1"
  }
 },
 "nbformat": 4,
 "nbformat_minor": 2
}
