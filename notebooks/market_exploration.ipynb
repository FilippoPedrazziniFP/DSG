{
 "cells": [
  {
   "cell_type": "code",
   "execution_count": 8,
   "metadata": {
    "collapsed": true
   },
   "outputs": [],
   "source": [
    "%matplotlib inline\n",
    "import pandas as pd\n",
    "import matplotlib\n",
    "import numpy as np\n",
    "import matplotlib.pyplot as plt\n",
    "MARKET_DATA = \"../data/Market.csv\""
   ]
  },
  {
   "cell_type": "code",
   "execution_count": 9,
   "metadata": {},
   "outputs": [
    {
     "data": {
      "text/plain": [
       "Index(['IsinIdx', 'DateKey', 'Price', 'Yield', 'ZSpread'], dtype='object')"
      ]
     },
     "execution_count": 9,
     "metadata": {},
     "output_type": "execute_result"
    }
   ],
   "source": [
    "df_market = pd.read_csv(MARKET_DATA)\n",
    "df_market.columns"
   ]
  },
  {
   "cell_type": "code",
   "execution_count": 7,
   "metadata": {
    "scrolled": false
   },
   "outputs": [
    {
     "name": "stdout",
     "output_type": "stream",
     "text": [
      "Overview\n",
      "   IsinIdx   DateKey    Price  Yield  ZSpread\n",
      "0        1  20160101  104.250  7.835    5.505\n",
      "1        7  20160101  107.500  7.520    5.541\n",
      "2      102  20160101  100.746  4.048    2.085\n",
      "3      331  20160101  112.790 -0.752   -0.215\n",
      "4      345  20160101  113.383 -0.667   -0.272\n",
      "         IsinIdx   DateKey    Price  Yield  ZSpread\n",
      "9867742    25748  20180416  100.943  2.873    2.645\n",
      "9867743    25748  20180417  100.948  2.874    2.654\n",
      "9867744    25748  20180418  100.952  2.874    2.645\n",
      "9867745    25748  20180419  100.957  2.874    2.623\n",
      "9867746    25748  20180420  100.961  2.874    2.623\n",
      "            IsinIdx       DateKey         Price         Yield       ZSpread\n",
      "count  9.867747e+06  9.867747e+06  9.867747e+06  9.867747e+06  9.867747e+06\n",
      "mean   1.393869e+04  2.016819e+07  1.054736e+02  1.882719e+01  2.120735e+03\n",
      "std    7.479061e+03  6.875624e+03  1.206965e+01  4.072348e+03  3.197921e+05\n",
      "min    1.000000e+00  2.016010e+07  1.500000e-01 -1.170163e+04 -2.484130e+02\n",
      "25%    7.536000e+03  2.016083e+07  1.002250e+02  1.156000e+00  2.930000e-01\n",
      "50%    1.404700e+04  2.017033e+07  1.030020e+02  2.574000e+00  9.310000e-01\n",
      "75%    2.076000e+04  2.017102e+07  1.084760e+02  3.901000e+00  1.937000e+00\n",
      "max    2.734000e+04  2.018042e+07  2.144400e+02  5.301371e+06  1.411321e+08\n",
      "\n",
      "      IsinIdx   DateKey    Price  Yield  ZSpread\n",
      "0           1  20160101  104.250  7.835    5.505\n",
      "1832    23880  20160101   99.810  3.169    1.506\n",
      "1833    23943  20160101   99.739  2.909    1.231\n",
      "1834    23944  20160101  100.408  3.749    1.614\n",
      "1835    23963  20160101  101.790  3.654    1.518\n",
      "\n",
      "Nan Values\n",
      "IsinIdx    0\n",
      "DateKey    0\n",
      "Price      0\n",
      "Yield      0\n",
      "ZSpread    0\n",
      "dtype: int64\n"
     ]
    }
   ],
   "source": [
    "print(\"Overview\")\n",
    "print(df_market.head(5))\n",
    "print(df_market.tail(5))\n",
    "print(df_market.describe())\n",
    "\n",
    "# Sort the dataframe based on Date\n",
    "df_market = df_market.sort_values(\"DateKey\", ascending=True)\n",
    "\n",
    "print()\n",
    "print(df_market.head(5))\n",
    "\n",
    "print()\n",
    "print(\"Nan Values\")\n",
    "print(df_market.isnull().sum())"
   ]
  },
  {
   "cell_type": "code",
   "execution_count": null,
   "metadata": {
    "collapsed": true
   },
   "outputs": [],
   "source": []
  }
 ],
 "metadata": {
  "kernelspec": {
   "display_name": "Python 3",
   "language": "python",
   "name": "python3"
  },
  "language_info": {
   "codemirror_mode": {
    "name": "ipython",
    "version": 3
   },
   "file_extension": ".py",
   "mimetype": "text/x-python",
   "name": "python",
   "nbconvert_exporter": "python",
   "pygments_lexer": "ipython3",
   "version": "3.6.1"
  }
 },
 "nbformat": 4,
 "nbformat_minor": 2
}
