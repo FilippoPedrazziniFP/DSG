{
 "cells": [
  {
   "cell_type": "code",
   "execution_count": 1,
   "metadata": {
    "collapsed": true
   },
   "outputs": [],
   "source": [
    "def intersect(df1, df2, columns):\n",
    "    df1 = df1.drop_duplicates(columns)\n",
    "    df2 = df2.drop_duplicates(columns)\n",
    "    merged = df1.append(df2)\n",
    "    \n",
    "    return merged[merged.duplicated(columns)]"
   ]
  },
  {
   "cell_type": "code",
   "execution_count": 2,
   "metadata": {
    "collapsed": true
   },
   "outputs": [],
   "source": [
    "def minus(df2, df1, columns):\n",
    "    df2 = df2[columns]\n",
    "    df1 = df1[columns]\n",
    "    return pd.concat([df2, df1, df1]).drop_duplicates(keep=False)"
   ]
  },
  {
   "cell_type": "code",
   "execution_count": 3,
   "metadata": {
    "collapsed": true
   },
   "outputs": [],
   "source": [
    "import pandas as pd"
   ]
  },
  {
   "cell_type": "markdown",
   "metadata": {},
   "source": [
    "In this notebook we will try to answer to some questions about the challange dataset, the questions are:\n",
    "\n",
    "- Are Holdings in Challange?\n",
    "- Do they ask us some interactions never happened?\n",
    "- When did they start sampling the negative interactions?\n",
    "- How the negative samples in challange have been chosen? uniformly at random?\n"
   ]
  },
  {
   "cell_type": "markdown",
   "metadata": {},
   "source": [
    "Let's start by answering to the first quesiton. We will try to find some touples (CustomerIdx, IsinIdx, BuySell) that are in trades with trade status = 'Holding' but are not in trade with trade status != \"Holding\". If none of these touplets are present in challange then 'Holdings' are not in challenge.\n",
    "\n",
    "Let's start by importing the dataframes:"
   ]
  },
  {
   "cell_type": "code",
   "execution_count": 4,
   "metadata": {
    "collapsed": true,
    "scrolled": true
   },
   "outputs": [],
   "source": [
    "trade = pd.read_csv(\"../data/Trade.csv\")\n",
    "chall = pd.read_csv(\"../data/Challenge_20180423.csv\")"
   ]
  },
  {
   "cell_type": "markdown",
   "metadata": {},
   "source": [
    "let's take just the interactions form the starting of 2018"
   ]
  },
  {
   "cell_type": "code",
   "execution_count": 5,
   "metadata": {
    "collapsed": true
   },
   "outputs": [],
   "source": [
    "trade = trade[trade[\"TradeDateKey\"] > 20180000]\n",
    "trade = trade.rename(index=str, columns={\"TradeDateKey\": \"DateKey\"})\n",
    "trade_holding = trade[trade[\"TradeStatus\"] == \"Holding\"]\n",
    "trade_interest = trade[trade[\"TradeStatus\"] != \"Holding\"]"
   ]
  },
  {
   "cell_type": "code",
   "execution_count": 6,
   "metadata": {},
   "outputs": [
    {
     "data": {
      "text/html": [
       "<div>\n",
       "<style>\n",
       "    .dataframe thead tr:only-child th {\n",
       "        text-align: right;\n",
       "    }\n",
       "\n",
       "    .dataframe thead th {\n",
       "        text-align: left;\n",
       "    }\n",
       "\n",
       "    .dataframe tbody tr th {\n",
       "        vertical-align: top;\n",
       "    }\n",
       "</style>\n",
       "<table border=\"1\" class=\"dataframe\">\n",
       "  <thead>\n",
       "    <tr style=\"text-align: right;\">\n",
       "      <th></th>\n",
       "      <th>DateKey</th>\n",
       "      <th>CustomerIdx</th>\n",
       "      <th>IsinIdx</th>\n",
       "      <th>BuySell</th>\n",
       "      <th>NotionalEUR</th>\n",
       "      <th>Price</th>\n",
       "      <th>TradeStatus</th>\n",
       "      <th>CustomerInterest</th>\n",
       "    </tr>\n",
       "  </thead>\n",
       "  <tbody>\n",
       "    <tr>\n",
       "      <th>2212067</th>\n",
       "      <td>20180131</td>\n",
       "      <td>989</td>\n",
       "      <td>20305</td>\n",
       "      <td>Sell</td>\n",
       "      <td>34428.0</td>\n",
       "      <td>NaN</td>\n",
       "      <td>Holding</td>\n",
       "      <td>0.0</td>\n",
       "    </tr>\n",
       "    <tr>\n",
       "      <th>2212076</th>\n",
       "      <td>20180131</td>\n",
       "      <td>989</td>\n",
       "      <td>21534</td>\n",
       "      <td>Sell</td>\n",
       "      <td>590192.0</td>\n",
       "      <td>NaN</td>\n",
       "      <td>Holding</td>\n",
       "      <td>0.0</td>\n",
       "    </tr>\n",
       "    <tr>\n",
       "      <th>2212122</th>\n",
       "      <td>20180131</td>\n",
       "      <td>989</td>\n",
       "      <td>21535</td>\n",
       "      <td>Buy</td>\n",
       "      <td>7904724.0</td>\n",
       "      <td>NaN</td>\n",
       "      <td>Holding</td>\n",
       "      <td>0.0</td>\n",
       "    </tr>\n",
       "    <tr>\n",
       "      <th>2212123</th>\n",
       "      <td>20180228</td>\n",
       "      <td>989</td>\n",
       "      <td>21535</td>\n",
       "      <td>Sell</td>\n",
       "      <td>7904724.0</td>\n",
       "      <td>NaN</td>\n",
       "      <td>Holding</td>\n",
       "      <td>0.0</td>\n",
       "    </tr>\n",
       "    <tr>\n",
       "      <th>2212208</th>\n",
       "      <td>20180131</td>\n",
       "      <td>989</td>\n",
       "      <td>23023</td>\n",
       "      <td>Buy</td>\n",
       "      <td>1068175.0</td>\n",
       "      <td>NaN</td>\n",
       "      <td>Holding</td>\n",
       "      <td>0.0</td>\n",
       "    </tr>\n",
       "  </tbody>\n",
       "</table>\n",
       "</div>"
      ],
      "text/plain": [
       "          DateKey  CustomerIdx  IsinIdx BuySell  NotionalEUR  Price  \\\n",
       "2212067  20180131          989    20305    Sell      34428.0    NaN   \n",
       "2212076  20180131          989    21534    Sell     590192.0    NaN   \n",
       "2212122  20180131          989    21535     Buy    7904724.0    NaN   \n",
       "2212123  20180228          989    21535    Sell    7904724.0    NaN   \n",
       "2212208  20180131          989    23023     Buy    1068175.0    NaN   \n",
       "\n",
       "        TradeStatus  CustomerInterest  \n",
       "2212067     Holding               0.0  \n",
       "2212076     Holding               0.0  \n",
       "2212122     Holding               0.0  \n",
       "2212123     Holding               0.0  \n",
       "2212208     Holding               0.0  "
      ]
     },
     "execution_count": 6,
     "metadata": {},
     "output_type": "execute_result"
    }
   ],
   "source": [
    "trade_holding.head()"
   ]
  },
  {
   "cell_type": "code",
   "execution_count": 7,
   "metadata": {},
   "outputs": [
    {
     "name": "stdout",
     "output_type": "stream",
     "text": [
      "(498989, 8)\n",
      "(350121, 8)\n"
     ]
    }
   ],
   "source": [
    "print(trade_holding.shape)\n",
    "print(trade_interest.shape)"
   ]
  },
  {
   "cell_type": "markdown",
   "metadata": {},
   "source": [
    "Let's now filter for the unique values of the tuples CustomerIdx, IsinIdx and BuySell"
   ]
  },
  {
   "cell_type": "code",
   "execution_count": 8,
   "metadata": {
    "collapsed": true
   },
   "outputs": [],
   "source": [
    "trade_holding = trade_holding.drop_duplicates([\"CustomerIdx\", \"IsinIdx\", \"BuySell\"])\n",
    "trade_interest = trade_interest.drop_duplicates([\"CustomerIdx\", \"IsinIdx\", \"BuySell\"])"
   ]
  },
  {
   "cell_type": "code",
   "execution_count": 9,
   "metadata": {},
   "outputs": [
    {
     "name": "stdout",
     "output_type": "stream",
     "text": [
      "(366703, 8)\n",
      "(208426, 8)\n"
     ]
    }
   ],
   "source": [
    "print(trade_holding.shape)\n",
    "print(trade_interest.shape)"
   ]
  },
  {
   "cell_type": "markdown",
   "metadata": {},
   "source": [
    "let's now take the holdings not in interest"
   ]
  },
  {
   "cell_type": "code",
   "execution_count": 10,
   "metadata": {
    "collapsed": true
   },
   "outputs": [],
   "source": [
    "unique_holdings = minus(trade_holding,trade_interest,[\"CustomerIdx\", \"IsinIdx\", \"BuySell\"])"
   ]
  },
  {
   "cell_type": "code",
   "execution_count": 11,
   "metadata": {},
   "outputs": [
    {
     "data": {
      "text/plain": [
       "(329982, 3)"
      ]
     },
     "execution_count": 11,
     "metadata": {},
     "output_type": "execute_result"
    }
   ],
   "source": [
    "unique_holdings.shape"
   ]
  },
  {
   "cell_type": "markdown",
   "metadata": {},
   "source": [
    "Let's see now how many of them are in challenge"
   ]
  },
  {
   "cell_type": "code",
   "execution_count": 12,
   "metadata": {},
   "outputs": [
    {
     "name": "stdout",
     "output_type": "stream",
     "text": [
      "the holdings not in interest are 329982\n",
      "the holdings in challange but not in trade_interest are 26318\n"
     ]
    }
   ],
   "source": [
    "holding_in_chall = intersect(unique_holdings, chall, [\"CustomerIdx\", \"IsinIdx\", \"BuySell\"])\n",
    "\n",
    "print(\"the holdings not in interest are {}\".format(unique_holdings.shape[0]))\n",
    "print(\"the holdings in challange but not in trade_interest are {}\".format(holding_in_chall.shape[0]))"
   ]
  },
  {
   "cell_type": "code",
   "execution_count": 13,
   "metadata": {},
   "outputs": [
    {
     "name": "stdout",
     "output_type": "stream",
     "text": [
      "the trade interest are 208426\n",
      "the trade interest in challange are 195963\n"
     ]
    }
   ],
   "source": [
    "trade_interest_in_chall = intersect(trade_interest, chall, [\"CustomerIdx\", \"IsinIdx\", \"BuySell\"])\n",
    "\n",
    "print(\"the trade interest are {}\".format(trade_interest.shape[0]))\n",
    "print(\"the trade interest in challange are {}\".format(trade_interest_in_chall.shape[0]))"
   ]
  },
  {
   "cell_type": "markdown",
   "metadata": {},
   "source": [
    "As you can see, almost all the trade interests are in challange, but just the 10% of unique holding are in challange and the percentage of a holdings with the same [\"CustomerIdx\", \"IsinIdx\", \"BuySell\"] of an interest is also around 10%. So, we can assume that that at the beginning there was one big dataset trades. This dataframe has been used to generate the test dataset. Then this dataset has been splitted in two halves and we have just one half. The unique holdings that are in challange are actually trades from the second half that by coincidence have the same [\"CustomerIdx\", \"IsinIdx\", \"BuySell\"] of our holdings. If holdings were included in challange the percentage of unique holdings in challange would be much higher. So \n",
    "\n",
    "## Holdings are not in the test dataset"
   ]
  },
  {
   "cell_type": "markdown",
   "metadata": {},
   "source": [
    "# Second Quesiton\n",
    "\n",
    "Let's now see how many interactions in challange already happened in the past:"
   ]
  },
  {
   "cell_type": "code",
   "execution_count": 14,
   "metadata": {},
   "outputs": [
    {
     "name": "stdout",
     "output_type": "stream",
     "text": [
      "360140 out of 484758 interactions in challange already happened\n"
     ]
    }
   ],
   "source": [
    "trade = pd.read_csv(\"../data/Trade.csv\")\n",
    "chall_already_happened = intersect(trade, chall, [\"CustomerIdx\", \"IsinIdx\", \"BuySell\"])\n",
    "print(\"{} out of {} interactions in challange already happened\".format(chall_already_happened.shape[0],chall.shape[0]))"
   ]
  },
  {
   "cell_type": "markdown",
   "metadata": {},
   "source": [
    "I assume that the other interactions come from the second half of trades that we don't have"
   ]
  },
  {
   "cell_type": "markdown",
   "metadata": {},
   "source": [
    "# Third Question\n",
    "\n",
    "to answer to this question we will look to some transactions that happened in the past and never happened again in the future. If none of these interactions is in challange then that past has not been used to generate the negative examples "
   ]
  },
  {
   "cell_type": "code",
   "execution_count": 15,
   "metadata": {},
   "outputs": [
    {
     "data": {
      "text/plain": [
       "(309870, 3)"
      ]
     },
     "execution_count": 15,
     "metadata": {},
     "output_type": "execute_result"
    }
   ],
   "source": [
    "trade = trade.rename(index=str, columns={\"TradeDateKey\": \"DateKey\"})\n",
    "trade = trade[trade[\"TradeStatus\"] != \"Holding\"]\n",
    "past = trade[trade[\"DateKey\"] < 20170000].drop_duplicates([\"CustomerIdx\", \"IsinIdx\", \"BuySell\"])\n",
    "future = trade[trade[\"DateKey\"] > 20170000].drop_duplicates([\"CustomerIdx\", \"IsinIdx\", \"BuySell\"])\n",
    "\n",
    "past_not_in_future = minus(past, future,[\"CustomerIdx\", \"IsinIdx\", \"BuySell\"])\n",
    "past_not_in_future.shape"
   ]
  },
  {
   "cell_type": "code",
   "execution_count": 16,
   "metadata": {},
   "outputs": [
    {
     "data": {
      "text/plain": [
       "(17355, 10)"
      ]
     },
     "execution_count": 16,
     "metadata": {},
     "output_type": "execute_result"
    }
   ],
   "source": [
    "u_p_in_chall = intersect(past_not_in_future, chall_already_happened,[\"CustomerIdx\", \"IsinIdx\", \"BuySell\"])\n",
    "u_p_in_chall.shape"
   ]
  },
  {
   "cell_type": "markdown",
   "metadata": {},
   "source": [
    "Since some interactions are present just in the 2017 and are present in the challange generated from our samples we can assume that all the transations starting from the 01-01-2016 has been used to generate the negative samples in the test set so \n",
    "## All of them has been used"
   ]
  },
  {
   "cell_type": "markdown",
   "metadata": {},
   "source": [
    "# Fourth quesition\n",
    "\n",
    "Let's now see if they have been chosen uniformly or not."
   ]
  },
  {
   "cell_type": "code",
   "execution_count": 17,
   "metadata": {},
   "outputs": [
    {
     "name": "stdout",
     "output_type": "stream",
     "text": [
      "17355 out of 309870 happened only in 2016 are in challange\n",
      "6%\n",
      "88528 out of 323803 happened only in 2017 are in challange\n",
      "27%\n",
      "117724 out of 124550 happened only in 2018 are in challange\n",
      "95%\n"
     ]
    }
   ],
   "source": [
    "trades_2016 = trade[trade[\"DateKey\"] < 20170000].drop_duplicates([\"CustomerIdx\", \"IsinIdx\", \"BuySell\"])\n",
    "trades_2017 = trade[trade[\"DateKey\"] > 20170000]\n",
    "trades_2017 = trades_2017[trades_2017[\"DateKey\"] < 20180000].drop_duplicates([\"CustomerIdx\", \"IsinIdx\", \"BuySell\"])\n",
    "trades_2018 = trade[trade[\"DateKey\"] > 20180000].drop_duplicates([\"CustomerIdx\", \"IsinIdx\", \"BuySell\"])\n",
    "\n",
    "only_2016 = minus(trades_2016, trades_2017,[\"CustomerIdx\", \"IsinIdx\", \"BuySell\"])\n",
    "only_2016 = minus(only_2016, trades_2018,[\"CustomerIdx\", \"IsinIdx\", \"BuySell\"])\n",
    "\n",
    "only_2017 = minus(trades_2017, trades_2016,[\"CustomerIdx\", \"IsinIdx\", \"BuySell\"])\n",
    "only_2017 = minus(only_2017, trades_2018, [\"CustomerIdx\", \"IsinIdx\", \"BuySell\"])\n",
    "\n",
    "only_2018 = minus(trades_2018, trades_2016,[\"CustomerIdx\", \"IsinIdx\", \"BuySell\"])\n",
    "only_2018 = minus(only_2018, trades_2017, [\"CustomerIdx\", \"IsinIdx\", \"BuySell\"])\n",
    "\n",
    "chall_2016 = intersect(only_2016, chall_already_happened,[\"CustomerIdx\", \"IsinIdx\", \"BuySell\"])\n",
    "chall_2017 = intersect(only_2017, chall_already_happened,[\"CustomerIdx\", \"IsinIdx\", \"BuySell\"])\n",
    "chall_2018 = intersect(only_2018, chall_already_happened,[\"CustomerIdx\", \"IsinIdx\", \"BuySell\"])\n",
    "\n",
    "print(\"{} out of {} happened only in 2016 are in challange\".format(chall_2016.shape[0], only_2016.shape[0]))\n",
    "print(\"{}%\".format(round(100*chall_2016.shape[0]/only_2016.shape[0])))\n",
    "print(\"{} out of {} happened only in 2017 are in challange\".format(chall_2017.shape[0], only_2017.shape[0]))\n",
    "print(\"{}%\".format(round(100*chall_2017.shape[0]/only_2017.shape[0])))\n",
    "print(\"{} out of {} happened only in 2018 are in challange\".format(chall_2018.shape[0], only_2018.shape[0]))\n",
    "print(\"{}%\".format(round(100*chall_2018.shape[0]/only_2018.shape[0])))"
   ]
  },
  {
   "cell_type": "markdown",
   "metadata": {
    "collapsed": true
   },
   "source": [
    "It's quite clear to see that the more recent the transaction is the more likely it has been picked. \n",
    "Let's now breakdown the transactions by months before. We will see 6, 8 and 10 months before 2018-04-22\n",
    "\n"
   ]
  },
  {
   "cell_type": "code",
   "execution_count": 18,
   "metadata": {},
   "outputs": [
    {
     "name": "stdout",
     "output_type": "stream",
     "text": [
      "177634 out of 189366 happened only in the last six months are in challange\n",
      "94%\n"
     ]
    }
   ],
   "source": [
    "trades_six_months = trade[trade[\"DateKey\"] > 20171021].drop_duplicates([\"CustomerIdx\", \"IsinIdx\", \"BuySell\"])\n",
    "others = trade[trade[\"DateKey\"] <= 20171021].drop_duplicates([\"CustomerIdx\", \"IsinIdx\", \"BuySell\"])\n",
    "\n",
    "only_six_months = minus(trades_six_months, others,[\"CustomerIdx\", \"IsinIdx\", \"BuySell\"])\n",
    "\n",
    "chall_six_months = intersect(only_six_months, chall_already_happened,[\"CustomerIdx\", \"IsinIdx\", \"BuySell\"])\n",
    "\n",
    "print(\"{} out of {} happened only in the last six months are in challange\".format(chall_six_months.shape[0], only_six_months.shape[0]))\n",
    "print(\"{}%\".format(round(100*chall_six_months.shape[0]/only_six_months.shape[0])))"
   ]
  },
  {
   "cell_type": "code",
   "execution_count": 19,
   "metadata": {},
   "outputs": [
    {
     "name": "stdout",
     "output_type": "stream",
     "text": [
      "193905 out of 246173 happened only in the last eight months challange\n",
      "79%\n"
     ]
    }
   ],
   "source": [
    "trades_eight_months = trade[trade[\"DateKey\"] > 20170821].drop_duplicates([\"CustomerIdx\", \"IsinIdx\", \"BuySell\"])\n",
    "others = trade[trade[\"DateKey\"] <= 20170821].drop_duplicates([\"CustomerIdx\", \"IsinIdx\", \"BuySell\"])\n",
    "\n",
    "only_eight_months = minus(trades_eight_months, others,[\"CustomerIdx\", \"IsinIdx\", \"BuySell\"])\n",
    "\n",
    "chall_eight_months = intersect(only_eight_months, chall_already_happened,[\"CustomerIdx\", \"IsinIdx\", \"BuySell\"])\n",
    "\n",
    "print(\"{} out of {} happened only in the last eight months challange\".format(chall_eight_months.shape[0], only_eight_months.shape[0]))\n",
    "print(\"{}%\".format(round(100*chall_eight_months.shape[0]/only_eight_months.shape[0])))"
   ]
  },
  {
   "cell_type": "code",
   "execution_count": 20,
   "metadata": {},
   "outputs": [
    {
     "name": "stdout",
     "output_type": "stream",
     "text": [
      "207824 out of 304985 happened only in the last 10 months are in challange\n",
      "68%\n"
     ]
    }
   ],
   "source": [
    "trades_ten_months = trade[trade[\"DateKey\"] > 20170621].drop_duplicates([\"CustomerIdx\", \"IsinIdx\", \"BuySell\"])\n",
    "others = trade[trade[\"DateKey\"] <= 20170621].drop_duplicates([\"CustomerIdx\", \"IsinIdx\", \"BuySell\"])\n",
    "\n",
    "only_ten_months = minus(trades_ten_months, others,[\"CustomerIdx\", \"IsinIdx\", \"BuySell\"])\n",
    "\n",
    "chall_ten_months = intersect(only_ten_months, chall_already_happened,[\"CustomerIdx\", \"IsinIdx\", \"BuySell\"])\n",
    "\n",
    "print(\"{} out of {} happened only in the last 10 months are in challange\".format(chall_ten_months.shape[0], only_ten_months.shape[0]))\n",
    "print(\"{}%\".format(round(100*chall_ten_months.shape[0]/only_ten_months.shape[0])))"
   ]
  },
  {
   "cell_type": "markdown",
   "metadata": {},
   "source": [
    "It's clear that the more months we add the less probability we have and that the transactions happened 6 months before and 4 months before (the one of 2018) have both the same probability of being in challange (95%)"
   ]
  },
  {
   "cell_type": "code",
   "execution_count": 21,
   "metadata": {},
   "outputs": [
    {
     "name": "stdout",
     "output_type": "stream",
     "text": [
      "33195 out of 371695 happened only more than six months before are in challange\n",
      "9%\n",
      "28706 out of 342335 happened only between 18 and 6 months before are in challange\n",
      "8%\n"
     ]
    }
   ],
   "source": [
    "older_six_months = trade[trade[\"DateKey\"] <= 20170621].drop_duplicates([\"CustomerIdx\", \"IsinIdx\", \"BuySell\"])\n",
    "older_six_months = older_six_months[older_six_months[\"DateKey\"] > 20160621].drop_duplicates([\"CustomerIdx\", \"IsinIdx\", \"BuySell\"])\n",
    "even_older = trade[trade[\"DateKey\"] <= 20160621].drop_duplicates([\"CustomerIdx\", \"IsinIdx\", \"BuySell\"])\n",
    "\n",
    "only_older_six_months = minus(older_six_months, trades_six_months,[\"CustomerIdx\", \"IsinIdx\", \"BuySell\"])\n",
    "only_older_six_months_one_year = minus(only_older_six_months, even_older,[\"CustomerIdx\", \"IsinIdx\", \"BuySell\"])\n",
    "\n",
    "\n",
    "chall_older_six_months = intersect(only_older_six_months, chall_already_happened,[\"CustomerIdx\", \"IsinIdx\", \"BuySell\"])\n",
    "chall_older_six_months_one_year = intersect(only_older_six_months_one_year, chall_already_happened,[\"CustomerIdx\", \"IsinIdx\", \"BuySell\"])\n",
    "\n",
    "print(\"{} out of {} happened only more than six months before are in challange\".format(chall_older_six_months.shape[0], only_older_six_months.shape[0]))\n",
    "print(\"{}%\".format(round(100*chall_older_six_months.shape[0]/only_older_six_months.shape[0])))\n",
    "print(\"{} out of {} happened only between 18 and 6 months before are in challange\".format(chall_older_six_months_one_year.shape[0], only_older_six_months_one_year.shape[0]))\n",
    "print(\"{}%\".format(round(100*chall_older_six_months_one_year.shape[0]/only_older_six_months_one_year.shape[0])))"
   ]
  },
  {
   "cell_type": "markdown",
   "metadata": {},
   "source": [
    "Transcations older than 6 months have the same probability of being chosen, the one in 2016 is 6%, between 18 and 6 months 8% and older than 6 months 9% "
   ]
  },
  {
   "cell_type": "markdown",
   "metadata": {},
   "source": [
    "How many transactions happened in the last 6 monts happened also before ? "
   ]
  },
  {
   "cell_type": "code",
   "execution_count": 22,
   "metadata": {},
   "outputs": [
    {
     "ename": "NameError",
     "evalue": "name 'six_months_in_chall' is not defined",
     "output_type": "error",
     "traceback": [
      "\u001b[0;31m---------------------------------------------------------------------------\u001b[0m",
      "\u001b[0;31mNameError\u001b[0m                                 Traceback (most recent call last)",
      "\u001b[0;32m<ipython-input-22-67aace9d1757>\u001b[0m in \u001b[0;36m<module>\u001b[0;34m()\u001b[0m\n\u001b[1;32m      1\u001b[0m \u001b[0mintersection\u001b[0m \u001b[0;34m=\u001b[0m \u001b[0mintersect\u001b[0m\u001b[0;34m(\u001b[0m\u001b[0mtrades_six_months\u001b[0m\u001b[0;34m,\u001b[0m \u001b[0molder_six_months\u001b[0m\u001b[0;34m,\u001b[0m\u001b[0;34m[\u001b[0m\u001b[0;34m\"CustomerIdx\"\u001b[0m\u001b[0;34m,\u001b[0m \u001b[0;34m\"IsinIdx\"\u001b[0m\u001b[0;34m,\u001b[0m \u001b[0;34m\"BuySell\"\u001b[0m\u001b[0;34m]\u001b[0m\u001b[0;34m)\u001b[0m\u001b[0;34m\u001b[0m\u001b[0m\n\u001b[1;32m      2\u001b[0m \u001b[0;34m\u001b[0m\u001b[0m\n\u001b[0;32m----> 3\u001b[0;31m \u001b[0mprint\u001b[0m\u001b[0;34m(\u001b[0m\u001b[0;34m\"{} out of {} happened at the most six months before already happened before\"\u001b[0m\u001b[0;34m.\u001b[0m\u001b[0mformat\u001b[0m\u001b[0;34m(\u001b[0m\u001b[0mintersection\u001b[0m\u001b[0;34m.\u001b[0m\u001b[0mshape\u001b[0m\u001b[0;34m[\u001b[0m\u001b[0;36m0\u001b[0m\u001b[0;34m]\u001b[0m\u001b[0;34m,\u001b[0m \u001b[0msix_months_in_chall\u001b[0m\u001b[0;34m.\u001b[0m\u001b[0mshape\u001b[0m\u001b[0;34m[\u001b[0m\u001b[0;36m0\u001b[0m\u001b[0;34m]\u001b[0m\u001b[0;34m)\u001b[0m\u001b[0;34m)\u001b[0m\u001b[0;34m\u001b[0m\u001b[0m\n\u001b[0m\u001b[1;32m      4\u001b[0m \u001b[0mprint\u001b[0m\u001b[0;34m(\u001b[0m\u001b[0;34m\"{}%\"\u001b[0m\u001b[0;34m.\u001b[0m\u001b[0mformat\u001b[0m\u001b[0;34m(\u001b[0m\u001b[0mround\u001b[0m\u001b[0;34m(\u001b[0m\u001b[0;36m100\u001b[0m\u001b[0;34m*\u001b[0m\u001b[0mintersection\u001b[0m\u001b[0;34m.\u001b[0m\u001b[0mshape\u001b[0m\u001b[0;34m[\u001b[0m\u001b[0;36m0\u001b[0m\u001b[0;34m]\u001b[0m\u001b[0;34m/\u001b[0m\u001b[0msix_months_in_chall\u001b[0m\u001b[0;34m.\u001b[0m\u001b[0mshape\u001b[0m\u001b[0;34m[\u001b[0m\u001b[0;36m0\u001b[0m\u001b[0;34m]\u001b[0m\u001b[0;34m)\u001b[0m\u001b[0;34m)\u001b[0m\u001b[0;34m)\u001b[0m\u001b[0;34m\u001b[0m\u001b[0m\n",
      "\u001b[0;31mNameError\u001b[0m: name 'six_months_in_chall' is not defined"
     ]
    }
   ],
   "source": [
    "intersection = intersect(trades_six_months, older_six_months,[\"CustomerIdx\", \"IsinIdx\", \"BuySell\"])\n",
    "\n",
    "print(\"{} out of {} happened at the most six months before already happened before\".format(intersection.shape[0], six_months_in_chall.shape[0]))\n",
    "print(\"{}%\".format(round(100*intersection.shape[0]/six_months_in_chall.shape[0])))"
   ]
  },
  {
   "cell_type": "markdown",
   "metadata": {},
   "source": [
    "# Conclusions\n",
    "The negative samples in Challange were created by taking the 95% of unique interactions from 2017-10-22 and the 8% of the unique interactions happened before. Since not all the rows in challange are in trades, it is reasonable to think that the dataset used to generate challange is bigger than the one we have. One can think that the 8% of interactions happened before are actually transactions happened after the 2017-10-22 but from the bigger dataset that by coincidence have th same [\"CustomerIdx\", \"IsinIdx\", \"BuySell\"] of an older transaction. However in our dataset this coincidence is 24% and since 24 >> (8 / 0.95),  that's not the case.\n",
    "\n",
    "And Holding were probably just removed."
   ]
  },
  {
   "cell_type": "code",
   "execution_count": 25,
   "metadata": {},
   "outputs": [
    {
     "data": {
      "text/html": [
       "<div>\n",
       "<style>\n",
       "    .dataframe thead tr:only-child th {\n",
       "        text-align: right;\n",
       "    }\n",
       "\n",
       "    .dataframe thead th {\n",
       "        text-align: left;\n",
       "    }\n",
       "\n",
       "    .dataframe tbody tr th {\n",
       "        vertical-align: top;\n",
       "    }\n",
       "</style>\n",
       "<table border=\"1\" class=\"dataframe\">\n",
       "  <thead>\n",
       "    <tr style=\"text-align: right;\">\n",
       "      <th></th>\n",
       "      <th>CustomerIdx</th>\n",
       "      <th>IsinIdx</th>\n",
       "      <th>counts</th>\n",
       "    </tr>\n",
       "  </thead>\n",
       "  <tbody>\n",
       "    <tr>\n",
       "      <th>count</th>\n",
       "      <td>242379.000000</td>\n",
       "      <td>242379.000000</td>\n",
       "      <td>242379.0</td>\n",
       "    </tr>\n",
       "    <tr>\n",
       "      <th>mean</th>\n",
       "      <td>1936.835749</td>\n",
       "      <td>15572.977102</td>\n",
       "      <td>2.0</td>\n",
       "    </tr>\n",
       "    <tr>\n",
       "      <th>std</th>\n",
       "      <td>869.366108</td>\n",
       "      <td>8381.699897</td>\n",
       "      <td>0.0</td>\n",
       "    </tr>\n",
       "    <tr>\n",
       "      <th>min</th>\n",
       "      <td>0.000000</td>\n",
       "      <td>1.000000</td>\n",
       "      <td>2.0</td>\n",
       "    </tr>\n",
       "    <tr>\n",
       "      <th>25%</th>\n",
       "      <td>1288.000000</td>\n",
       "      <td>7950.000000</td>\n",
       "      <td>2.0</td>\n",
       "    </tr>\n",
       "    <tr>\n",
       "      <th>50%</th>\n",
       "      <td>2106.000000</td>\n",
       "      <td>15592.000000</td>\n",
       "      <td>2.0</td>\n",
       "    </tr>\n",
       "    <tr>\n",
       "      <th>75%</th>\n",
       "      <td>2574.000000</td>\n",
       "      <td>23841.000000</td>\n",
       "      <td>2.0</td>\n",
       "    </tr>\n",
       "    <tr>\n",
       "      <th>max</th>\n",
       "      <td>3470.000000</td>\n",
       "      <td>27344.000000</td>\n",
       "      <td>2.0</td>\n",
       "    </tr>\n",
       "  </tbody>\n",
       "</table>\n",
       "</div>"
      ],
      "text/plain": [
       "         CustomerIdx        IsinIdx    counts\n",
       "count  242379.000000  242379.000000  242379.0\n",
       "mean     1936.835749   15572.977102       2.0\n",
       "std       869.366108    8381.699897       0.0\n",
       "min         0.000000       1.000000       2.0\n",
       "25%      1288.000000    7950.000000       2.0\n",
       "50%      2106.000000   15592.000000       2.0\n",
       "75%      2574.000000   23841.000000       2.0\n",
       "max      3470.000000   27344.000000       2.0"
      ]
     },
     "execution_count": 25,
     "metadata": {},
     "output_type": "execute_result"
    }
   ],
   "source": [
    "chall.groupby([\"CustomerIdx\", \"IsinIdx\"]).size().reset_index(name='counts').describe()"
   ]
  },
  {
   "cell_type": "code",
   "execution_count": null,
   "metadata": {
    "collapsed": true
   },
   "outputs": [],
   "source": []
  },
  {
   "cell_type": "code",
   "execution_count": 27,
   "metadata": {},
   "outputs": [
    {
     "name": "stdout",
     "output_type": "stream",
     "text": [
      "242379 out of 242379 interactions in challange already happened\n"
     ]
    }
   ],
   "source": [
    "chall_already_happened = intersect(trade, chall, [\"CustomerIdx\", \"IsinIdx\"])\n",
    "print(\"{} out of {} interactions in challange already happened\".format(chall_already_happened.shape[0],chall.drop_duplicates([\"CustomerIdx\", \"IsinIdx\"]).shape[0]))"
   ]
  },
  {
   "cell_type": "code",
   "execution_count": 31,
   "metadata": {},
   "outputs": [
    {
     "name": "stdout",
     "output_type": "stream",
     "text": [
      "242379 out of 242379 interactions in challange already happened\n"
     ]
    }
   ],
   "source": [
    "chall_already_happened = intersect(trade[trade[\"DateKey\"] > 20171022], chall, [\"CustomerIdx\", \"IsinIdx\"])\n",
    "print(\"{} out of {} interactions in challange already happened\".format(chall_already_happened.shape[0],chall.drop_duplicates([\"CustomerIdx\", \"IsinIdx\"]).shape[0]))"
   ]
  },
  {
   "cell_type": "code",
   "execution_count": 33,
   "metadata": {},
   "outputs": [
    {
     "data": {
      "text/plain": [
       "260382"
      ]
     },
     "execution_count": 33,
     "metadata": {},
     "output_type": "execute_result"
    }
   ],
   "source": [
    "trade[trade[\"DateKey\"] > 20171022].drop_duplicates([\"CustomerIdx\", \"IsinIdx\"]).shape[0]"
   ]
  },
  {
   "cell_type": "code",
   "execution_count": 37,
   "metadata": {},
   "outputs": [
    {
     "data": {
      "text/plain": [
       "260382"
      ]
     },
     "execution_count": 37,
     "metadata": {},
     "output_type": "execute_result"
    }
   ],
   "source": [
    "trade[trade[\"DateKey\"] >= 20171022].drop_duplicates([\"CustomerIdx\",\"IsinIdx\"]).shape[0]"
   ]
  },
  {
   "cell_type": "code",
   "execution_count": null,
   "metadata": {
    "collapsed": true
   },
   "outputs": [],
   "source": []
  }
 ],
 "metadata": {
  "kernelspec": {
   "display_name": "Python 3",
   "language": "python",
   "name": "python3"
  },
  "language_info": {
   "codemirror_mode": {
    "name": "ipython",
    "version": 3
   },
   "file_extension": ".py",
   "mimetype": "text/x-python",
   "name": "python",
   "nbconvert_exporter": "python",
   "pygments_lexer": "ipython3",
   "version": "3.6.3"
  }
 },
 "nbformat": 4,
 "nbformat_minor": 1
}
