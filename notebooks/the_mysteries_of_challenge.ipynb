{
 "cells": [
  {
   "cell_type": "code",
   "execution_count": 125,
   "metadata": {
    "collapsed": true
   },
   "outputs": [],
   "source": [
    "def intersect(df1, df2, columns):\n",
    "    df1 = df1.drop_duplicates(columns)\n",
    "    df2 = df2.drop_duplicates(columns)\n",
    "    merged = df1.append(df2)\n",
    "    \n",
    "    return merged[merged.duplicated(columns)]"
   ]
  },
  {
   "cell_type": "code",
   "execution_count": 126,
   "metadata": {
    "collapsed": true
   },
   "outputs": [],
   "source": [
    "def minus(df2, df1, columns):\n",
    "    df2 = df2[columns]\n",
    "    df1 = df1[columns]\n",
    "    return pd.concat([df2, df1, df1]).drop_duplicates(keep=False)"
   ]
  },
  {
   "cell_type": "code",
   "execution_count": 127,
   "metadata": {
    "collapsed": true
   },
   "outputs": [],
   "source": [
    "import pandas as pd"
   ]
  },
  {
   "cell_type": "markdown",
   "metadata": {},
   "source": [
    "In this notebook we will try to answer to some questions about the challange dataset, the questions are:\n",
    "\n",
    "- Are Holdings in Challange?\n",
    "- Do they ask us some interactions never happened? "
   ]
  },
  {
   "cell_type": "markdown",
   "metadata": {},
   "source": [
    "Let's start by answering to the first quesiton. We will try to find some touples (CustomerIdx, IsinIdx, BuySell) that are in trades with trade status = 'Holding' but are not in trade with trade status != \"Holding\". If none of these touplets are present in challange then 'Holdings' are not in challenge.\n",
    "\n",
    "Let's start by importing the dataframes:"
   ]
  },
  {
   "cell_type": "code",
   "execution_count": 128,
   "metadata": {
    "collapsed": true,
    "scrolled": true
   },
   "outputs": [],
   "source": [
    "trade = pd.read_csv(\"../data/Trade.csv\")\n",
    "chall = pd.read_csv(\"../data/Challenge_20180423.csv\")"
   ]
  },
  {
   "cell_type": "markdown",
   "metadata": {},
   "source": [
    "let's take just the interactions form the starting of 2018"
   ]
  },
  {
   "cell_type": "code",
   "execution_count": 129,
   "metadata": {},
   "outputs": [],
   "source": [
    "trade = trade[trade[\"TradeDateKey\"] > 20180000]\n",
    "trade = trade.rename(index=str, columns={\"TradeDateKey\": \"DateKey\"})\n",
    "trade_holding = trade[trade[\"TradeStatus\"] == \"Holding\"]\n",
    "trade_interest = trade[trade[\"TradeStatus\"] != \"Holding\"]\n",
    "\n",
    "\n",
    "\n"
   ]
  },
  {
   "cell_type": "code",
   "execution_count": 130,
   "metadata": {},
   "outputs": [
    {
     "data": {
      "text/html": [
       "<div>\n",
       "<style>\n",
       "    .dataframe thead tr:only-child th {\n",
       "        text-align: right;\n",
       "    }\n",
       "\n",
       "    .dataframe thead th {\n",
       "        text-align: left;\n",
       "    }\n",
       "\n",
       "    .dataframe tbody tr th {\n",
       "        vertical-align: top;\n",
       "    }\n",
       "</style>\n",
       "<table border=\"1\" class=\"dataframe\">\n",
       "  <thead>\n",
       "    <tr style=\"text-align: right;\">\n",
       "      <th></th>\n",
       "      <th>DateKey</th>\n",
       "      <th>CustomerIdx</th>\n",
       "      <th>IsinIdx</th>\n",
       "      <th>BuySell</th>\n",
       "      <th>NotionalEUR</th>\n",
       "      <th>Price</th>\n",
       "      <th>TradeStatus</th>\n",
       "      <th>CustomerInterest</th>\n",
       "    </tr>\n",
       "  </thead>\n",
       "  <tbody>\n",
       "    <tr>\n",
       "      <th>2212067</th>\n",
       "      <td>20180131</td>\n",
       "      <td>989</td>\n",
       "      <td>20305</td>\n",
       "      <td>Sell</td>\n",
       "      <td>34428.0</td>\n",
       "      <td>NaN</td>\n",
       "      <td>Holding</td>\n",
       "      <td>0.0</td>\n",
       "    </tr>\n",
       "    <tr>\n",
       "      <th>2212076</th>\n",
       "      <td>20180131</td>\n",
       "      <td>989</td>\n",
       "      <td>21534</td>\n",
       "      <td>Sell</td>\n",
       "      <td>590192.0</td>\n",
       "      <td>NaN</td>\n",
       "      <td>Holding</td>\n",
       "      <td>0.0</td>\n",
       "    </tr>\n",
       "    <tr>\n",
       "      <th>2212122</th>\n",
       "      <td>20180131</td>\n",
       "      <td>989</td>\n",
       "      <td>21535</td>\n",
       "      <td>Buy</td>\n",
       "      <td>7904724.0</td>\n",
       "      <td>NaN</td>\n",
       "      <td>Holding</td>\n",
       "      <td>0.0</td>\n",
       "    </tr>\n",
       "    <tr>\n",
       "      <th>2212123</th>\n",
       "      <td>20180228</td>\n",
       "      <td>989</td>\n",
       "      <td>21535</td>\n",
       "      <td>Sell</td>\n",
       "      <td>7904724.0</td>\n",
       "      <td>NaN</td>\n",
       "      <td>Holding</td>\n",
       "      <td>0.0</td>\n",
       "    </tr>\n",
       "    <tr>\n",
       "      <th>2212208</th>\n",
       "      <td>20180131</td>\n",
       "      <td>989</td>\n",
       "      <td>23023</td>\n",
       "      <td>Buy</td>\n",
       "      <td>1068175.0</td>\n",
       "      <td>NaN</td>\n",
       "      <td>Holding</td>\n",
       "      <td>0.0</td>\n",
       "    </tr>\n",
       "  </tbody>\n",
       "</table>\n",
       "</div>"
      ],
      "text/plain": [
       "          DateKey  CustomerIdx  IsinIdx BuySell  NotionalEUR  Price  \\\n",
       "2212067  20180131          989    20305    Sell      34428.0    NaN   \n",
       "2212076  20180131          989    21534    Sell     590192.0    NaN   \n",
       "2212122  20180131          989    21535     Buy    7904724.0    NaN   \n",
       "2212123  20180228          989    21535    Sell    7904724.0    NaN   \n",
       "2212208  20180131          989    23023     Buy    1068175.0    NaN   \n",
       "\n",
       "        TradeStatus  CustomerInterest  \n",
       "2212067     Holding               0.0  \n",
       "2212076     Holding               0.0  \n",
       "2212122     Holding               0.0  \n",
       "2212123     Holding               0.0  \n",
       "2212208     Holding               0.0  "
      ]
     },
     "execution_count": 130,
     "metadata": {},
     "output_type": "execute_result"
    }
   ],
   "source": [
    "trade_holding.head()"
   ]
  },
  {
   "cell_type": "code",
   "execution_count": 146,
   "metadata": {},
   "outputs": [
    {
     "name": "stdout",
     "output_type": "stream",
     "text": [
      "(366703, 8)\n",
      "(208426, 8)\n"
     ]
    }
   ],
   "source": [
    "print(trade_holding.shape)\n",
    "print(trade_interest.shape)"
   ]
  },
  {
   "cell_type": "markdown",
   "metadata": {},
   "source": [
    "Let's now filter for the unique values of the tuples CustomerIdx, IsinIdx and BuySell"
   ]
  },
  {
   "cell_type": "code",
   "execution_count": 133,
   "metadata": {
    "collapsed": true
   },
   "outputs": [],
   "source": [
    "trade_holding = trade_holding.drop_duplicates([\"CustomerIdx\", \"IsinIdx\", \"BuySell\"])\n",
    "trade_interest = trade_interest.drop_duplicates([\"CustomerIdx\", \"IsinIdx\", \"BuySell\"])"
   ]
  },
  {
   "cell_type": "code",
   "execution_count": 134,
   "metadata": {},
   "outputs": [
    {
     "name": "stdout",
     "output_type": "stream",
     "text": [
      "(366703, 8)\n",
      "(208426, 8)\n"
     ]
    }
   ],
   "source": [
    "print(trade_holding.shape)\n",
    "print(trade_interest.shape)"
   ]
  },
  {
   "cell_type": "markdown",
   "metadata": {},
   "source": [
    "let's now take the holdings not in interest"
   ]
  },
  {
   "cell_type": "code",
   "execution_count": 135,
   "metadata": {},
   "outputs": [],
   "source": [
    "unique_holdings = minus(trade_holding,trade_interest,[\"CustomerIdx\", \"IsinIdx\", \"BuySell\"])"
   ]
  },
  {
   "cell_type": "code",
   "execution_count": 136,
   "metadata": {},
   "outputs": [
    {
     "data": {
      "text/plain": [
       "(329982, 3)"
      ]
     },
     "execution_count": 136,
     "metadata": {},
     "output_type": "execute_result"
    }
   ],
   "source": [
    "unique_holdings.shape"
   ]
  },
  {
   "cell_type": "markdown",
   "metadata": {},
   "source": [
    "Let's see now how many of them are in challenge"
   ]
  },
  {
   "cell_type": "code",
   "execution_count": 139,
   "metadata": {},
   "outputs": [
    {
     "name": "stdout",
     "output_type": "stream",
     "text": [
      "the uniques holdings are 329982\n",
      "the holdings in challange but not in trade_interest are 26318\n"
     ]
    }
   ],
   "source": [
    "holding_in_chall = intersect(unique_holdings, chall, [\"CustomerIdx\", \"IsinIdx\", \"BuySell\"])\n",
    "\n",
    "print(\"the holdings not in interest are {}\".format(unique_holdings.shape[0]))\n",
    "print(\"the holdings in challange but not in trade_interest are {}\".format(holding_in_chall.shape[0]))\n"
   ]
  },
  {
   "cell_type": "markdown",
   "metadata": {},
   "source": [
    "## So holdings are in challange!"
   ]
  },
  {
   "cell_type": "markdown",
   "metadata": {},
   "source": [
    "# Second Quesiton\n",
    "\n",
    "Let's now see how many interactions in challange already happened in the past:"
   ]
  },
  {
   "cell_type": "code",
   "execution_count": 145,
   "metadata": {},
   "outputs": [
    {
     "name": "stdout",
     "output_type": "stream",
     "text": [
      "360140 out of 484758 interactions in challange already happened\n"
     ]
    }
   ],
   "source": [
    "trade = pd.read_csv(\"../data/Trade.csv\")\n",
    "chall_already_happened = intersect(trade, chall, [\"CustomerIdx\", \"IsinIdx\", \"BuySell\"])\n",
    "print(\"{} out of {} interactions in challange already happened\".format(chall_already_happened.shape[0],chall.shape[0]))"
   ]
  }
 ],
 "metadata": {
  "kernelspec": {
   "display_name": "Python 3",
   "language": "python",
   "name": "python3"
  },
  "language_info": {
   "codemirror_mode": {
    "name": "ipython",
    "version": 3
   },
   "file_extension": ".py",
   "mimetype": "text/x-python",
   "name": "python",
   "nbconvert_exporter": "python",
   "pygments_lexer": "ipython3",
   "version": "3.6.3"
  }
 },
 "nbformat": 4,
 "nbformat_minor": 1
}
