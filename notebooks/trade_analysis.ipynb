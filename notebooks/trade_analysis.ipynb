{
 "cells": [
  {
   "cell_type": "code",
   "execution_count": 1,
   "metadata": {
    "collapsed": true
   },
   "outputs": [],
   "source": [
    "%matplotlib inline\n",
    "import pandas as pd\n",
    "import matplotlib\n",
    "import time\n",
    "import numpy as np\n",
    "import matplotlib.pyplot as plt\n",
    "TRADE_DATA = \"../data/Trade.csv\""
   ]
  },
  {
   "cell_type": "code",
   "execution_count": 2,
   "metadata": {},
   "outputs": [
    {
     "data": {
      "text/plain": [
       "Index(['TradeDateKey', 'CustomerIdx', 'IsinIdx', 'BuySell', 'NotionalEUR',\n",
       "       'Price', 'TradeStatus', 'CustomerInterest'],\n",
       "      dtype='object')"
      ]
     },
     "execution_count": 2,
     "metadata": {},
     "output_type": "execute_result"
    }
   ],
   "source": [
    "df_trade = pd.read_csv(TRADE_DATA)\n",
    "df_trade.columns"
   ]
  },
  {
   "cell_type": "code",
   "execution_count": 3,
   "metadata": {
    "collapsed": true
   },
   "outputs": [],
   "source": [
    "df_trade = df_trade[df_trade[\"TradeDateKey\"] >= 20180101]"
   ]
  },
  {
   "cell_type": "code",
   "execution_count": 4,
   "metadata": {},
   "outputs": [
    {
     "data": {
      "text/html": [
       "<div>\n",
       "<style>\n",
       "    .dataframe thead tr:only-child th {\n",
       "        text-align: right;\n",
       "    }\n",
       "\n",
       "    .dataframe thead th {\n",
       "        text-align: left;\n",
       "    }\n",
       "\n",
       "    .dataframe tbody tr th {\n",
       "        vertical-align: top;\n",
       "    }\n",
       "</style>\n",
       "<table border=\"1\" class=\"dataframe\">\n",
       "  <thead>\n",
       "    <tr style=\"text-align: right;\">\n",
       "      <th></th>\n",
       "      <th>TradeDateKey</th>\n",
       "      <th>CustomerIdx</th>\n",
       "      <th>IsinIdx</th>\n",
       "      <th>NotionalEUR</th>\n",
       "      <th>Price</th>\n",
       "      <th>CustomerInterest</th>\n",
       "    </tr>\n",
       "  </thead>\n",
       "  <tbody>\n",
       "    <tr>\n",
       "      <th>count</th>\n",
       "      <td>8.491100e+05</td>\n",
       "      <td>849110.000000</td>\n",
       "      <td>849110.000000</td>\n",
       "      <td>8.491100e+05</td>\n",
       "      <td>346124.000000</td>\n",
       "      <td>849110.000000</td>\n",
       "    </tr>\n",
       "    <tr>\n",
       "      <th>mean</th>\n",
       "      <td>2.018023e+07</td>\n",
       "      <td>1876.417462</td>\n",
       "      <td>15525.267759</td>\n",
       "      <td>1.776484e+07</td>\n",
       "      <td>1336.363132</td>\n",
       "      <td>0.412339</td>\n",
       "    </tr>\n",
       "    <tr>\n",
       "      <th>std</th>\n",
       "      <td>9.749854e+01</td>\n",
       "      <td>879.603357</td>\n",
       "      <td>8524.637034</td>\n",
       "      <td>4.607034e+08</td>\n",
       "      <td>66325.036619</td>\n",
       "      <td>0.492256</td>\n",
       "    </tr>\n",
       "    <tr>\n",
       "      <th>min</th>\n",
       "      <td>2.018010e+07</td>\n",
       "      <td>0.000000</td>\n",
       "      <td>1.000000</td>\n",
       "      <td>-1.180224e+08</td>\n",
       "      <td>-999999.000000</td>\n",
       "      <td>0.000000</td>\n",
       "    </tr>\n",
       "    <tr>\n",
       "      <th>25%</th>\n",
       "      <td>2.018013e+07</td>\n",
       "      <td>1145.000000</td>\n",
       "      <td>7505.000000</td>\n",
       "      <td>2.357560e+05</td>\n",
       "      <td>98.453000</td>\n",
       "      <td>0.000000</td>\n",
       "    </tr>\n",
       "    <tr>\n",
       "      <th>50%</th>\n",
       "      <td>2.018023e+07</td>\n",
       "      <td>2069.000000</td>\n",
       "      <td>15879.000000</td>\n",
       "      <td>7.685435e+05</td>\n",
       "      <td>100.550000</td>\n",
       "      <td>0.000000</td>\n",
       "    </tr>\n",
       "    <tr>\n",
       "      <th>75%</th>\n",
       "      <td>2.018033e+07</td>\n",
       "      <td>2574.000000</td>\n",
       "      <td>23661.000000</td>\n",
       "      <td>1.660910e+06</td>\n",
       "      <td>104.985000</td>\n",
       "      <td>1.000000</td>\n",
       "    </tr>\n",
       "    <tr>\n",
       "      <th>max</th>\n",
       "      <td>2.018042e+07</td>\n",
       "      <td>3470.000000</td>\n",
       "      <td>27357.000000</td>\n",
       "      <td>9.300000e+10</td>\n",
       "      <td>999999.000000</td>\n",
       "      <td>1.000000</td>\n",
       "    </tr>\n",
       "  </tbody>\n",
       "</table>\n",
       "</div>"
      ],
      "text/plain": [
       "       TradeDateKey    CustomerIdx        IsinIdx   NotionalEUR  \\\n",
       "count  8.491100e+05  849110.000000  849110.000000  8.491100e+05   \n",
       "mean   2.018023e+07    1876.417462   15525.267759  1.776484e+07   \n",
       "std    9.749854e+01     879.603357    8524.637034  4.607034e+08   \n",
       "min    2.018010e+07       0.000000       1.000000 -1.180224e+08   \n",
       "25%    2.018013e+07    1145.000000    7505.000000  2.357560e+05   \n",
       "50%    2.018023e+07    2069.000000   15879.000000  7.685435e+05   \n",
       "75%    2.018033e+07    2574.000000   23661.000000  1.660910e+06   \n",
       "max    2.018042e+07    3470.000000   27357.000000  9.300000e+10   \n",
       "\n",
       "               Price  CustomerInterest  \n",
       "count  346124.000000     849110.000000  \n",
       "mean     1336.363132          0.412339  \n",
       "std     66325.036619          0.492256  \n",
       "min   -999999.000000          0.000000  \n",
       "25%        98.453000          0.000000  \n",
       "50%       100.550000          0.000000  \n",
       "75%       104.985000          1.000000  \n",
       "max    999999.000000          1.000000  "
      ]
     },
     "execution_count": 4,
     "metadata": {},
     "output_type": "execute_result"
    }
   ],
   "source": [
    "df_trade.describe()"
   ]
  },
  {
   "cell_type": "code",
   "execution_count": 22,
   "metadata": {},
   "outputs": [
    {
     "data": {
      "text/plain": [
       "CustomerIdx\n",
       "3032    3\n",
       "Name: CustomerInterest, dtype: int64"
      ]
     },
     "execution_count": 22,
     "metadata": {},
     "output_type": "execute_result"
    }
   ],
   "source": [
    "# Create a Double KEY dictionary\n",
    "\"\"\"train = df_trade.values\n",
    "\n",
    "from collections import defaultdict\n",
    "from itertools import product\n",
    "\n",
    "customer_ids = np.unique(train[:,1])\n",
    "bonds_ids = np.unique(train[:,2])\n",
    "\n",
    "cbidx_freq = defaultdict(dict)\n",
    "for c, b in product(customer_ids, bonds_ids):\n",
    "    for sample in train:\n",
    "        i = 0\n",
    "        if sample[1] == c and sample[2] == b:\n",
    "            i = i + 1\n",
    "        cbidx_freq[c][b] = i\"\"\"\n",
    "max_value = df_trade[\"TradeDateKey\"].max()\n",
    "df_trade[df_trade[\"TradeDateKey\"] == max_value].groupby(\"CustomerIdx\").count()[\"CustomerInterest\"]"
   ]
  },
  {
   "cell_type": "code",
   "execution_count": 23,
   "metadata": {
    "scrolled": false
   },
   "outputs": [
    {
     "name": "stdout",
     "output_type": "stream",
     "text": [
      "3032 3\n"
     ]
    }
   ],
   "source": [
    "from itertools import islice\n",
    "dictionary = df_trade[df_trade[\"TradeDateKey\"] == max_value].groupby(\"CustomerIdx\").count()[\"CustomerInterest\"].to_dict()\n",
    "\n",
    "def take(n, iterable):\n",
    "    return list(islice(iterable, n))\n",
    "def print_dictionary(dictionary=None):\n",
    "    n_items = take(10, dictionary.items())\n",
    "    for key, val in n_items:\n",
    "        print(key, val)\n",
    "    return\n",
    "print_dictionary(dictionary)"
   ]
  },
  {
   "cell_type": "code",
   "execution_count": null,
   "metadata": {
    "collapsed": true
   },
   "outputs": [],
   "source": []
  },
  {
   "cell_type": "code",
   "execution_count": null,
   "metadata": {
    "collapsed": true
   },
   "outputs": [],
   "source": []
  },
  {
   "cell_type": "code",
   "execution_count": null,
   "metadata": {
    "collapsed": true,
    "scrolled": false
   },
   "outputs": [],
   "source": [
    "\n",
    "    "
   ]
  },
  {
   "cell_type": "code",
   "execution_count": null,
   "metadata": {
    "collapsed": true
   },
   "outputs": [],
   "source": []
  }
 ],
 "metadata": {
  "kernelspec": {
   "display_name": "Python 3",
   "language": "python",
   "name": "python3"
  },
  "language_info": {
   "codemirror_mode": {
    "name": "ipython",
    "version": 3
   },
   "file_extension": ".py",
   "mimetype": "text/x-python",
   "name": "python",
   "nbconvert_exporter": "python",
   "pygments_lexer": "ipython3",
   "version": "3.6.1"
  }
 },
 "nbformat": 4,
 "nbformat_minor": 2
}
