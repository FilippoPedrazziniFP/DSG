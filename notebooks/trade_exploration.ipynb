{
 "cells": [
  {
   "cell_type": "code",
   "execution_count": 41,
   "metadata": {
    "collapsed": true
   },
   "outputs": [],
   "source": [
    "%matplotlib inline\n",
    "import pandas as pd\n",
    "import matplotlib\n",
    "import time\n",
    "import numpy as np\n",
    "import matplotlib.pyplot as plt\n",
    "TRADE_DATA = \"../data/Trade.csv\""
   ]
  },
  {
   "cell_type": "code",
   "execution_count": 42,
   "metadata": {},
   "outputs": [
    {
     "data": {
      "text/plain": [
       "Index(['TradeDateKey', 'CustomerIdx', 'IsinIdx', 'BuySell', 'NotionalEUR',\n",
       "       'Price', 'TradeStatus', 'CustomerInterest'],\n",
       "      dtype='object')"
      ]
     },
     "execution_count": 42,
     "metadata": {},
     "output_type": "execute_result"
    }
   ],
   "source": [
    "df_trade = pd.read_csv(TRADE_DATA)\n",
    "df_trade.columns"
   ]
  },
  {
   "cell_type": "code",
   "execution_count": 43,
   "metadata": {},
   "outputs": [
    {
     "name": "stdout",
     "output_type": "stream",
     "text": [
      "Overview\n",
      "   TradeDateKey  CustomerIdx  IsinIdx BuySell  NotionalEUR  Price TradeStatus  \\\n",
      "0      20161207         2789     8478    Sell     653168.0    0.0     Unknown   \n",
      "1      20170329         2574    14562     Buy    1656487.0    0.0     Unknown   \n",
      "2      20170418         2574     4747     Buy     939673.0    0.0     Unknown   \n",
      "3      20170310         2574     9885    Sell     708082.0    0.0     Unknown   \n",
      "4      20161116         2574     8885     Buy    1147709.0    0.0     Unknown   \n",
      "\n",
      "   CustomerInterest  \n",
      "0               1.0  \n",
      "1               1.0  \n",
      "2               1.0  \n",
      "3               1.0  \n",
      "4               1.0  \n",
      "       TradeDateKey   CustomerIdx       IsinIdx   NotionalEUR         Price  \\\n",
      "count  6.762021e+06  6.762021e+06  6.762021e+06  6.762021e+06  2.144088e+06   \n",
      "mean   2.016750e+07  1.922354e+03  1.460369e+04  6.313228e+06  1.779008e+05   \n",
      "std    6.768082e+03  8.579293e+02  7.963809e+03  2.712408e+08  1.318503e+06   \n",
      "min    2.016010e+07  0.000000e+00  0.000000e+00 -1.485547e+08 -9.999990e+05   \n",
      "25%    2.016063e+07  1.288000e+03  7.392000e+03  3.410980e+05  9.313780e+01   \n",
      "50%    2.017023e+07  2.090000e+03  1.522900e+04  8.812120e+05  1.010000e+02   \n",
      "75%    2.017093e+07  2.574000e+03  2.211900e+04  2.136842e+06  1.075000e+02   \n",
      "max    2.018042e+07  3.470000e+03  2.739400e+04  2.000000e+11  9.999999e+06   \n",
      "\n",
      "       CustomerInterest  \n",
      "count      6.762021e+06  \n",
      "mean       3.271106e-01  \n",
      "std        4.691581e-01  \n",
      "min        0.000000e+00  \n",
      "25%        0.000000e+00  \n",
      "50%        0.000000e+00  \n",
      "75%        1.000000e+00  \n",
      "max        1.000000e+00  \n"
     ]
    }
   ],
   "source": [
    "print(\"Overview\")\n",
    "print(df_trade.head(5))\n",
    "print(df_trade.describe())\n",
    "\n",
    "df_trade = df_trade[df_trade[\"TradeDateKey\"] >= 20180101]"
   ]
  },
  {
   "cell_type": "code",
   "execution_count": 47,
   "metadata": {
    "scrolled": false
   },
   "outputs": [
    {
     "name": "stdout",
     "output_type": "stream",
     "text": [
      "       CustomerIdx  TradeDateKey\n",
      "count  2411.000000   2411.000000\n",
      "mean   1750.467856    352.181667\n",
      "std     994.239898   1367.384775\n",
      "min       0.000000      1.000000\n",
      "25%     899.000000      4.000000\n",
      "50%    1809.000000     25.000000\n",
      "75%    2581.500000    154.000000\n",
      "max    3470.000000  29266.000000\n",
      "Axes(0.125,0.125;0.775x0.755)\n"
     ]
    },
    {
     "data": {
      "image/png": "[encoded data removed]",
      "text/plain": [
       "<matplotlib.figure.Figure at 0x10c1e8080>"
      ]
     },
     "metadata": {},
     "output_type": "display_data"
    }
   ],
   "source": [
    "customers_freq = df_trade.groupby(\"CustomerIdx\").count()[\"TradeDateKey\"]\n",
    "customers_freq = customers_freq.reset_index()\n",
    "print(customers_freq.describe())\n",
    "active_customers = customers_freq[customers_freq[\"TradeDateKey\"] >= 352]\n",
    "print(active_customers.plot())"
   ]
  },
  {
   "cell_type": "code",
   "execution_count": 48,
   "metadata": {
    "scrolled": false
   },
   "outputs": [
    {
     "name": "stdout",
     "output_type": "stream",
     "text": [
      "385\n",
      "TIME TO PREPROCESS THE DATA:  0.5269029999999972\n"
     ]
    }
   ],
   "source": [
    "start = time.clock()\n",
    "data = []\n",
    "customer_list = active_customers[\"CustomerIdx\"].values\n",
    "for customer in customer_list:\n",
    "    single_cust_data = df_trade[df_trade[\"CustomerIdx\"] == customer]\n",
    "    data.append(single_cust_data)\n",
    "\n",
    "print(len(data))\n",
    "print(\"TIME TO PREPROCESS THE DATA: \", time.clock() - start)"
   ]
  },
  {
   "cell_type": "code",
   "execution_count": null,
   "metadata": {
    "collapsed": true
   },
   "outputs": [],
   "source": []
  },
  {
   "cell_type": "code",
   "execution_count": null,
   "metadata": {
    "collapsed": true,
    "scrolled": false
   },
   "outputs": [],
   "source": []
  },
  {
   "cell_type": "code",
   "execution_count": null,
   "metadata": {
    "collapsed": true
   },
   "outputs": [],
   "source": []
  },
  {
   "cell_type": "code",
   "execution_count": null,
   "metadata": {
    "collapsed": true
   },
   "outputs": [],
   "source": []
  }
 ],
 "metadata": {
  "kernelspec": {
   "display_name": "Python 3",
   "language": "python",
   "name": "python3"
  },
  "language_info": {
   "codemirror_mode": {
    "name": "ipython",
    "version": 3
   },
   "file_extension": ".py",
   "mimetype": "text/x-python",
   "name": "python",
   "nbconvert_exporter": "python",
   "pygments_lexer": "ipython3",
   "version": "3.6.1"
  }
 },
 "nbformat": 4,
 "nbformat_minor": 2
}
