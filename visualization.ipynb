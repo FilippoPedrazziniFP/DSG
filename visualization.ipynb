{
 "cells": [
  {
   "cell_type": "markdown",
   "metadata": {},
   "source": [
    "## All the imports"
   ]
  },
  {
   "cell_type": "code",
   "execution_count": 14,
   "metadata": {
    "collapsed": true
   },
   "outputs": [],
   "source": [
    "import pandas as pd"
   ]
  },
  {
   "cell_type": "markdown",
   "metadata": {},
   "source": [
    "## Some methods and classes to load the data"
   ]
  },
  {
   "cell_type": "code",
   "execution_count": 15,
   "metadata": {
    "collapsed": true
   },
   "outputs": [],
   "source": [
    "class Util():\n",
    "    TRAIN_SESSION = \"./data/train_session.csv\"\n",
    "    RANDOM_SUBMISSION = \"./data/random_submission.csv\"\n",
    "    TEST_TRACKING = \"./data/test_tracking.csv\"\n",
    "    TRAIN_TRACKING = \"./data/train_tracking.csv\"\n",
    "    PRODUCT_CATEGORY = \"./data/productid_category.csv\"\n",
    "    \n",
    "def load_data(file_path):\n",
    "    df = pd.read_csv(file_path)\n",
    "    return df"
   ]
  },
  {
   "cell_type": "code",
   "execution_count": 16,
   "metadata": {
    "scrolled": false
   },
   "outputs": [
    {
     "name": "stdout",
     "output_type": "stream",
     "text": [
      "LOADING TRAIN\n",
      "                                                 sid  target\n",
      "0  U6clt0UYaQB7vJQFmSWYymsAfwmT9SMhrm2oXQ8TC5M8mf...   False\n",
      "1  0qRbLkxeOjeEo6CtxtB6VI8FNPt4Vl8niySzZLqSWiQOka...   False\n",
      "2  cnCRGomfPqEWuhMZkA0RQfvTQiwVoyHXUqvqnPCutVouFO...   False\n",
      "3  zBwrofN0r2ps9u/UCUS134SiZIqB+UgIEr0MZGHzksqR4f...   False\n",
      "4  Kbr60r9eaX/ENOJ81R1YBxfwrEohoxyQI9Ma0fODsS+/XN...   False\n",
      "                                                      sid  target\n",
      "count                                              133123  133123\n",
      "unique                                             133123       2\n",
      "top     GWG6o8O6UCgYTvrqQvk3BlGC4x2srxWzzOl6psQfOo8dVk...   False\n",
      "freq                                                    1  120643\n",
      "LOADING TRAIN\n",
      "                                                 sid      type query  \\\n",
      "0  xvmQh3WmJGKaplwGgHf4o1MNKg2/6IpkbKNh4nnwZibi3f...  CAROUSEL   NaN   \n",
      "1  xvmQh3WmJGKaplwGgHf4o1MNKg2/6IpkbKNh4nnwZibi3f...  CAROUSEL   NaN   \n",
      "2  xvmQh3WmJGKaplwGgHf4o1MNKg2/6IpkbKNh4nnwZibi3f...  CAROUSEL   NaN   \n",
      "3  xvmQh3WmJGKaplwGgHf4o1MNKg2/6IpkbKNh4nnwZibi3f...  CAROUSEL   NaN   \n",
      "4  KeKjpi6re4QRYxl76E8sLPJHxRCeapb4sb69s5hmPCV+Jn...        PA   NaN   \n",
      "\n",
      "   nb_query_terms  rcount  pn facets products dproducts    rh  \\\n",
      "0             NaN     NaN NaN    NaN      NaN       NaN  1094   \n",
      "1             NaN     NaN NaN    NaN      NaN       NaN  1094   \n",
      "2             NaN     NaN NaN    NaN      NaN       NaN  1094   \n",
      "3             NaN     NaN NaN    NaN      NaN       NaN  1094   \n",
      "4             NaN     NaN NaN    NaN      NaN       NaN   875   \n",
      "\n",
      "        ...         ocarproducts oquery orcount ofacets opn odproducts  \\\n",
      "0       ...                  NaN    NaN     NaN     NaN NaN        NaN   \n",
      "1       ...                  NaN    NaN     NaN     NaN NaN        NaN   \n",
      "2       ...                  NaN    NaN     NaN     NaN NaN        NaN   \n",
      "3       ...                  NaN    NaN     NaN     NaN NaN        NaN   \n",
      "4       ...                  NaN    NaN     NaN     NaN NaN        NaN   \n",
      "\n",
      "   oproducts                    siteid                   duration  \\\n",
      "0        NaN  cF8tnO1rK7fIBxVIs+AW4w==  0 days 00:00:00.000000000   \n",
      "1        NaN  cF8tnO1rK7fIBxVIs+AW4w==  0 days 00:00:11.179637600   \n",
      "2        NaN  cF8tnO1rK7fIBxVIs+AW4w==  0 days 00:00:13.132755800   \n",
      "3        NaN  cF8tnO1rK7fIBxVIs+AW4w==  0 days 00:02:17.397333300   \n",
      "4        NaN  cF8tnO1rK7fIBxVIs+AW4w==  0 days 00:00:00.000000000   \n",
      "\n",
      "   type_simplified  \n",
      "0         CAROUSEL  \n",
      "1         CAROUSEL  \n",
      "2         CAROUSEL  \n",
      "3         CAROUSEL  \n",
      "4               PA  \n",
      "\n",
      "[5 rows x 31 columns]\n",
      "       nb_query_terms        rcount            pn            rh            rw  \\\n",
      "count   536243.000000  7.548730e+05  7.548730e+05  1.355095e+06  1.355095e+06   \n",
      "mean         2.870475  1.521509e+04  1.912932e+02  7.861577e+02  1.460208e+03   \n",
      "std          1.468141  1.436858e+05  1.643768e+05  1.931430e+02  3.471656e+02   \n",
      "min          1.000000  0.000000e+00  0.000000e+00 -4.240000e+02  0.000000e+00   \n",
      "25%          2.000000  2.300000e+01  1.000000e+00  6.620000e+02  1.280000e+03   \n",
      "50%          3.000000  9.600000e+01  1.000000e+00  7.630000e+02  1.366000e+03   \n",
      "75%          4.000000  1.036000e+03  2.000000e+00  9.190000e+02  1.635000e+03   \n",
      "max         28.000000  1.697152e+07  1.428162e+08  1.994100e+04  6.472000e+03   \n",
      "\n",
      "           quantity             ff       orcount            opn  \n",
      "count  46531.000000  264553.000000  1.615450e+05  161545.000000  \n",
      "mean       1.074853       0.050538  1.708555e+04       1.504324  \n",
      "std        0.732475       0.219053  1.216165e+05       1.746304  \n",
      "min        0.000000       0.000000  1.000000e+00       1.000000  \n",
      "25%        1.000000       0.000000  5.100000e+01       1.000000  \n",
      "50%        1.000000       0.000000  2.510000e+02       1.000000  \n",
      "75%        1.000000       0.000000  1.616000e+03       1.000000  \n",
      "max       60.000000       1.000000  8.306567e+06      20.000000  \n",
      "LOADING TEST\n",
      "                                                 sid          type query  \\\n",
      "0  0lxzryU3/8rBidnQL1B0oQ0oKuu61M4rURSwnv91/ewptW...     SHOW_CASE   NaN   \n",
      "1  0lxzryU3/8rBidnQL1B0oQ0oKuu61M4rURSwnv91/ewptW...     SHOW_CASE   NaN   \n",
      "2  0lxzryU3/8rBidnQL1B0oQ0oKuu61M4rURSwnv91/ewptW...  LIST_PRODUCT   NaN   \n",
      "3  0lxzryU3/8rBidnQL1B0oQ0oKuu61M4rURSwnv91/ewptW...  LIST_PRODUCT   NaN   \n",
      "4  0lxzryU3/8rBidnQL1B0oQ0oKuu61M4rURSwnv91/ewptW...  LIST_PRODUCT   NaN   \n",
      "\n",
      "   nb_query_terms  rcount   pn                           facets  \\\n",
      "0             NaN     NaN  NaN                              NaN   \n",
      "1             NaN     NaN  NaN                              NaN   \n",
      "2             NaN    23.0  1.0                              NaN   \n",
      "3             NaN    23.0  1.0  {'3de8TRVa4DTjYY66/op7KQ==': 1}   \n",
      "4             NaN    23.0  1.0  {'3de8TRVa4DTjYY66/op7KQ==': 1}   \n",
      "\n",
      "                                            products dproducts   rh  \\\n",
      "0                                                NaN       NaN  794   \n",
      "1                                                NaN       NaN  794   \n",
      "2  [{'sku': '55aD5VhEZVhjCQ5riEbFIQ==', 'offerid'...       NaN  794   \n",
      "3  [{'sku': '/8nNQaab1vKS9l+4ur7ZMw==', 'offerid'...       NaN  794   \n",
      "4  [{'sku': 'PhmCS/gi0hz6zN40ul647+p6NPTGBfCKCRdX...       NaN  794   \n",
      "\n",
      "        ...         ocarproducts oquery orcount ofacets opn odproducts  \\\n",
      "0       ...                  NaN    NaN     NaN     NaN NaN        NaN   \n",
      "1       ...                  NaN    NaN     NaN     NaN NaN        NaN   \n",
      "2       ...                  NaN    NaN     NaN     NaN NaN        NaN   \n",
      "3       ...                  NaN    NaN     NaN     NaN NaN        NaN   \n",
      "4       ...                  NaN    NaN     NaN     NaN NaN        NaN   \n",
      "\n",
      "   oproducts                    siteid                   duration  \\\n",
      "0        NaN  cF8tnO1rK7fIBxVIs+AW4w==  0 days 00:00:00.000000000   \n",
      "1        NaN  cF8tnO1rK7fIBxVIs+AW4w==  0 days 00:00:08.792333100   \n",
      "2        NaN  cF8tnO1rK7fIBxVIs+AW4w==  0 days 00:00:52.214568900   \n",
      "3        NaN  cF8tnO1rK7fIBxVIs+AW4w==  0 days 00:01:02.244364600   \n",
      "4        NaN  cF8tnO1rK7fIBxVIs+AW4w==  0 days 00:01:14.927493300   \n",
      "\n",
      "   type_simplified  \n",
      "0        SHOW_CASE  \n",
      "1        SHOW_CASE  \n",
      "2     LIST_PRODUCT  \n",
      "3     LIST_PRODUCT  \n",
      "4     LIST_PRODUCT  \n",
      "\n",
      "[5 rows x 31 columns]\n",
      "       nb_query_terms        rcount             pn             rh  \\\n",
      "count   364154.000000  5.098090e+05  509809.000000  908233.000000   \n",
      "mean         2.848624  1.510559e+04       2.039044     784.111028   \n",
      "std          1.481154  1.360238e+05       6.952718     190.820153   \n",
      "min          1.000000  0.000000e+00       0.000000       0.000000   \n",
      "25%          2.000000  2.300000e+01       1.000000     662.000000   \n",
      "50%          3.000000  9.700000e+01       1.000000     766.000000   \n",
      "75%          4.000000  1.031000e+03       2.000000     919.000000   \n",
      "max         28.000000  1.326773e+07     500.000000   21250.000000   \n",
      "\n",
      "                  rw      quantity             ff       orcount            opn  \n",
      "count  908233.000000  31175.000000  176535.000000  1.091990e+05  109199.000000  \n",
      "mean     1460.266323      1.081540       0.053581  1.665659e+04       1.528988  \n",
      "std       333.837913      0.718799       0.225190  1.222315e+05       1.805893  \n",
      "min         0.000000      0.000000       0.000000  1.000000e+00       1.000000  \n",
      "25%      1280.000000      1.000000       0.000000  5.200000e+01       1.000000  \n",
      "50%      1366.000000      1.000000       0.000000  2.520000e+02       1.000000  \n",
      "75%      1654.000000      1.000000       0.000000  1.632000e+03       1.000000  \n",
      "max      7680.000000     12.000000       1.000000  6.315537e+06      20.000000  \n",
      "LOADING SUBMISSION\n",
      "                                                 sid    target\n",
      "0  EhjG5b8h+RHDgxkQpkMc9sECXbdnA3JOPS07CRYvWmwYSJ...  0.548814\n",
      "1  34lu87wJJunsPz2c0SxM/aLQ9x+2dlj5W96R95DIG9yRRe...  0.715189\n",
      "2  xkSYpSt3qRk8X6Ev1W8d72Vj6oyXbI8DKjkCqHmvcaI36F...  0.602763\n",
      "3  Tu9ylHPEk5Lw5K/8TpuJOEdJv3ZUzJu0zz2sfBrJDQpmyg...  0.544883\n",
      "4  s6gbPkykrrtcYDB/OidLEdkEsk/bsWIejziprzhq2wJBij...  0.423655\n",
      "             target\n",
      "count  88750.000000\n",
      "mean       0.498929\n",
      "std        0.289102\n",
      "min        0.000003\n",
      "25%        0.247402\n",
      "50%        0.498752\n",
      "75%        0.749438\n",
      "max        0.999978\n",
      "LOADING PRODUCT\n",
      "                 product_id  category_product_id_level1  \\\n",
      "0  i1t4Uq+NqhB0O4d2J/jzCA==                     1387712   \n",
      "1  a0OxyFVArDl0UzhpmP1L5w==                          13   \n",
      "2  mQ+KVVCUfLKmb2Rlo/FT3A==                          22   \n",
      "3  KVg9N8j/cuLPkvIcSzYemw==                           5   \n",
      "4  N9mErkxf69NX7uuqysEWGA==                     2626413   \n",
      "\n",
      "   category_product_id_level2  category_product_id_level3  \n",
      "0                     1388277                     1394791  \n",
      "1                          87                        6352  \n",
      "2                         527                        5945  \n",
      "3                          11                          40  \n",
      "4                     2626979                     2633494  \n"
     ]
    },
    {
     "name": "stdout",
     "output_type": "stream",
     "text": [
      "       category_product_id_level1  category_product_id_level2  \\\n",
      "count                1.063592e+07                1.063592e+07   \n",
      "mean                 1.224580e+06                1.224957e+06   \n",
      "std                  1.633108e+06                1.633250e+06   \n",
      "min                  0.000000e+00                0.000000e+00   \n",
      "25%                  2.100000e+01                2.280000e+02   \n",
      "50%                  4.400000e+01                5.210000e+02   \n",
      "75%                  2.444824e+06                2.445390e+06   \n",
      "max                  5.103804e+06                5.104370e+06   \n",
      "\n",
      "       category_product_id_level3  \n",
      "count                1.063592e+07  \n",
      "mean                 1.229423e+06  \n",
      "std                  1.634789e+06  \n",
      "min                  0.000000e+00  \n",
      "25%                  2.780000e+03  \n",
      "50%                  6.314000e+03  \n",
      "75%                  2.451908e+06  \n",
      "max                  5.110887e+06  \n"
     ]
    }
   ],
   "source": [
    "print(\"LOADING TRAIN\")\n",
    "df_train = load_data(Util.TRAIN_SESSION)\n",
    "print(df_train.head())\n",
    "print(df_train.describe())\n",
    "\n",
    "print(\"LOADING TRAIN\")\n",
    "df_train_tracking = load_data(Util.TRAIN_TRACKING)\n",
    "print(df_train_tracking.head())\n",
    "print(df_train_tracking.describe())\n",
    "\n",
    "print(\"LOADING TEST\")\n",
    "df_test = load_data(Util.TEST_TRACKING)\n",
    "print(df_test.head())\n",
    "print(df_test.describe())\n",
    "\n",
    "print(\"LOADING SUBMISSION\")\n",
    "df_submission = load_data(Util.RANDOM_SUBMISSION)\n",
    "print(df_submission.head())\n",
    "print(df_submission.describe())\n",
    "\n",
    "print(\"LOADING PRODUCT\")\n",
    "df_product = load_data(Util.PRODUCT_CATEGORY)\n",
    "print(df_product.head())\n",
    "print(df_product.describe())"
   ]
  },
  {
   "cell_type": "code",
   "execution_count": 17,
   "metadata": {},
   "outputs": [
    {
     "data": {
      "text/plain": [
       "Index(['sid', 'type', 'query', 'nb_query_terms', 'rcount', 'pn', 'facets',\n",
       "       'products', 'dproducts', 'rh', 'rw', 'device', 'idcar', 'carproducts',\n",
       "       'sku', 'offerid', 'quantity', 'stype', 'sname', 'ff', 'oidcar',\n",
       "       'ocarproducts', 'oquery', 'orcount', 'ofacets', 'opn', 'odproducts',\n",
       "       'oproducts', 'siteid', 'duration', 'type_simplified'],\n",
       "      dtype='object')"
      ]
     },
     "execution_count": 17,
     "metadata": {},
     "output_type": "execute_result"
    }
   ],
   "source": [
    "df_test.columns"
   ]
  },
  {
   "cell_type": "code",
   "execution_count": null,
   "metadata": {
    "collapsed": true
   },
   "outputs": [],
   "source": [
    "df_train_tracking.nunique()"
   ]
  },
  {
   "cell_type": "code",
   "execution_count": null,
   "metadata": {
    "collapsed": true
   },
   "outputs": [],
   "source": []
  }
 ],
 "metadata": {
  "kernelspec": {
   "display_name": "Python 3",
   "language": "python",
   "name": "python3"
  },
  "language_info": {
   "codemirror_mode": {
    "name": "ipython",
    "version": 3
   },
   "file_extension": ".py",
   "mimetype": "text/x-python",
   "name": "python",
   "nbconvert_exporter": "python",
   "pygments_lexer": "ipython3",
   "version": "3.6.1"
  }
 },
 "nbformat": 4,
 "nbformat_minor": 2
}
