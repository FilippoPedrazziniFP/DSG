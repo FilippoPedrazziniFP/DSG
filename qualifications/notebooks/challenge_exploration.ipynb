{
 "cells": [
  {
   "cell_type": "code",
   "execution_count": 9,
   "metadata": {
    "collapsed": true
   },
   "outputs": [],
   "source": [
    "%matplotlib inline\n",
    "import pandas as pd\n",
    "import matplotlib\n",
    "import numpy as np\n",
    "import matplotlib.pyplot as plt\n",
    "CHALLENGE_DATA = \"../data/Challenge_20180423.csv\"\n",
    "TRADE_DATA = \"../data/Trade.csv\""
   ]
  },
  {
   "cell_type": "code",
   "execution_count": 10,
   "metadata": {
    "collapsed": true
   },
   "outputs": [],
   "source": [
    "df_challenge = pd.read_csv(CHALLENGE_DATA)\n",
    "df_trade = pd.read_csv(TRADE_DATA)"
   ]
  },
  {
   "cell_type": "code",
   "execution_count": 11,
   "metadata": {},
   "outputs": [
    {
     "name": "stdout",
     "output_type": "stream",
     "text": [
      "Overview\n",
      "  PredictionIdx   DateKey  CustomerIdx  IsinIdx BuySell  CustomerInterest\n",
      "0    a1e0d80784  20180423         1856    13323     Buy               NaN\n",
      "1    c2cc6cc2a8  20180423         1856     9230     Buy               NaN\n",
      "2    a8e94f6344  20180423         1780     9157     Buy               NaN\n",
      "3    758bae1e35  20180423         2129     9131     Buy               NaN\n",
      "4    02ab378ee8  20180423         1758     7151     Buy               NaN\n",
      "          DateKey    CustomerIdx        IsinIdx  CustomerInterest\n",
      "count    484758.0  484758.000000  484758.000000               0.0\n",
      "mean   20180423.0    1936.835749   15572.977102               NaN\n",
      "std           0.0     869.365212    8381.691252               NaN\n",
      "min    20180423.0       0.000000       1.000000               NaN\n",
      "25%    20180423.0    1288.000000    7950.000000               NaN\n",
      "50%    20180423.0    2106.000000   15592.000000               NaN\n",
      "75%    20180423.0    2574.000000   23841.000000               NaN\n",
      "max    20180423.0    3470.000000   27344.000000               NaN\n",
      "Overview\n",
      "   TradeDateKey  CustomerIdx  IsinIdx BuySell  NotionalEUR  Price TradeStatus  \\\n",
      "0      20161207         2789     8478    Sell     653168.0    0.0     Unknown   \n",
      "1      20170329         2574    14562     Buy    1656487.0    0.0     Unknown   \n",
      "2      20170418         2574     4747     Buy     939673.0    0.0     Unknown   \n",
      "3      20170310         2574     9885    Sell     708082.0    0.0     Unknown   \n",
      "4      20161116         2574     8885     Buy    1147709.0    0.0     Unknown   \n",
      "\n",
      "   CustomerInterest  \n",
      "0               1.0  \n",
      "1               1.0  \n",
      "2               1.0  \n",
      "3               1.0  \n",
      "4               1.0  \n",
      "       TradeDateKey   CustomerIdx       IsinIdx   NotionalEUR         Price  \\\n",
      "count  6.762021e+06  6.762021e+06  6.762021e+06  6.762021e+06  2.144088e+06   \n",
      "mean   2.016750e+07  1.922354e+03  1.460369e+04  6.313228e+06  1.779008e+05   \n",
      "std    6.768082e+03  8.579293e+02  7.963809e+03  2.712408e+08  1.318503e+06   \n",
      "min    2.016010e+07  0.000000e+00  0.000000e+00 -1.485547e+08 -9.999990e+05   \n",
      "25%    2.016063e+07  1.288000e+03  7.392000e+03  3.410980e+05  9.313780e+01   \n",
      "50%    2.017023e+07  2.090000e+03  1.522900e+04  8.812120e+05  1.010000e+02   \n",
      "75%    2.017093e+07  2.574000e+03  2.211900e+04  2.136842e+06  1.075000e+02   \n",
      "max    2.018042e+07  3.470000e+03  2.739400e+04  2.000000e+11  9.999999e+06   \n",
      "\n",
      "       CustomerInterest  \n",
      "count      6.762021e+06  \n",
      "mean       3.271106e-01  \n",
      "std        4.691581e-01  \n",
      "min        0.000000e+00  \n",
      "25%        0.000000e+00  \n",
      "50%        0.000000e+00  \n",
      "75%        1.000000e+00  \n",
      "max        1.000000e+00  \n"
     ]
    }
   ],
   "source": [
    "print(\"Overview\")\n",
    "print(df_challenge.head(5))\n",
    "print(df_challenge.describe())\n",
    "\n",
    "print(\"Overview\")\n",
    "print(df_trade.head(5))\n",
    "print(df_trade.describe())"
   ]
  },
  {
   "cell_type": "code",
   "execution_count": 14,
   "metadata": {},
   "outputs": [
    {
     "name": "stdout",
     "output_type": "stream",
     "text": [
      "       PredictionIdx   DateKey   BuySell  CustomerInterest\n",
      "count       242379.0  242379.0  242379.0          242379.0\n",
      "mean             2.0       2.0       2.0               0.0\n",
      "std              0.0       0.0       0.0               0.0\n",
      "min              2.0       2.0       2.0               0.0\n",
      "25%              2.0       2.0       2.0               0.0\n",
      "50%              2.0       2.0       2.0               0.0\n",
      "75%              2.0       2.0       2.0               0.0\n",
      "max              2.0       2.0       2.0               0.0\n"
     ]
    }
   ],
   "source": [
    "# df = pd.merge(df_trade, df_challenge, on=[\"CustomerIdx\", \"IsinIdx\"], how='left')\n",
    "df_challenge.describe()\n",
    "df = df_challenge.groupby([\"CustomerIdx\", \"IsinIdx\"]).count()\n",
    "print(df.describe())"
   ]
  },
  {
   "cell_type": "code",
   "execution_count": null,
   "metadata": {
    "collapsed": true
   },
   "outputs": [],
   "source": []
  }
 ],
 "metadata": {
  "kernelspec": {
   "display_name": "Python 3",
   "language": "python",
   "name": "python3"
  },
  "language_info": {
   "codemirror_mode": {
    "name": "ipython",
    "version": 3
   },
   "file_extension": ".py",
   "mimetype": "text/x-python",
   "name": "python",
   "nbconvert_exporter": "python",
   "pygments_lexer": "ipython3",
   "version": "3.6.1"
  }
 },
 "nbformat": 4,
 "nbformat_minor": 2
}
