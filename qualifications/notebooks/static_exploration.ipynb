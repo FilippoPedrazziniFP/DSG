{
 "cells": [
  {
   "cell_type": "code",
   "execution_count": 50,
   "metadata": {
    "collapsed": true
   },
   "outputs": [],
   "source": [
    "%matplotlib inline\n",
    "import pandas as pd\n",
    "import matplotlib\n",
    "import numpy as np\n",
    "import matplotlib.pyplot as plt\n",
    "TRADE_BONDS_CUSTOMERS_DATA = \"../data/trade_bonds_customers.csv\""
   ]
  },
  {
   "cell_type": "code",
   "execution_count": 51,
   "metadata": {},
   "outputs": [],
   "source": [
    "df = pd.read_csv(TRADE_BONDS_CUSTOMERS_DATA)"
   ]
  },
  {
   "cell_type": "code",
   "execution_count": 52,
   "metadata": {},
   "outputs": [
    {
     "name": "stdout",
     "output_type": "stream",
     "text": [
      "Overview\n",
      "   TradeDateKey  CustomerIdx  IsinIdx BuySell  CustomerInterest  \\\n",
      "0      20160101         3470    13501     Buy               0.0   \n",
      "1      20160912         3470    13501     Buy               1.0   \n",
      "2      20160913         3470    13501    Sell               1.0   \n",
      "3      20160930         3470    13501     Buy               0.0   \n",
      "4      20161231         3470    13501    Sell               0.0   \n",
      "\n",
      "                         Sector      Region_x  ActualMaturityDateKey  \\\n",
      "0  Asset Managers & Hedge Funds  Asia Pacific               20210815   \n",
      "1  Asset Managers & Hedge Funds  Asia Pacific               20210815   \n",
      "2  Asset Managers & Hedge Funds  Asia Pacific               20210815   \n",
      "3  Asset Managers & Hedge Funds  Asia Pacific               20210815   \n",
      "4  Asset Managers & Hedge Funds  Asia Pacific               20210815   \n",
      "\n",
      "   IssueDateKey Seniority     ...     ActivityGroup  Region_y Activity  \\\n",
      "0      20160815       SUB     ...          FLOW G10  AMERICAS  HG CASH   \n",
      "1      20160815       SUB     ...          FLOW G10  AMERICAS  HG CASH   \n",
      "2      20160815       SUB     ...          FLOW G10  AMERICAS  HG CASH   \n",
      "3      20160815       SUB     ...          FLOW G10  AMERICAS  HG CASH   \n",
      "4      20160815       SUB     ...          FLOW G10  AMERICAS  HG CASH   \n",
      "\n",
      "   RiskCaptain            Owner CompositeRating IndustrySector MarketIssue  \\\n",
      "0  HG CASH FIN  YANKEES FIN LT2              B+      Financial      Yankee   \n",
      "1  HG CASH FIN  YANKEES FIN LT2              B+      Financial      Yankee   \n",
      "2  HG CASH FIN  YANKEES FIN LT2              B+      Financial      Yankee   \n",
      "3  HG CASH FIN  YANKEES FIN LT2              B+      Financial      Yankee   \n",
      "4  HG CASH FIN  YANKEES FIN LT2              B+      Financial      Yankee   \n",
      "\n",
      "   IssuedAmount  CouponType  \n",
      "0  2.650000e+09    VARIABLE  \n",
      "1  2.650000e+09    VARIABLE  \n",
      "2  2.650000e+09    VARIABLE  \n",
      "3  2.650000e+09    VARIABLE  \n",
      "4  2.650000e+09    VARIABLE  \n",
      "\n",
      "[5 rows x 21 columns]\n",
      "       TradeDateKey   CustomerIdx       IsinIdx  CustomerInterest  \\\n",
      "count  6.762021e+06  6.762021e+06  6.762021e+06      6.762021e+06   \n",
      "mean   2.016750e+07  1.922354e+03  1.460369e+04      3.271106e-01   \n",
      "std    6.768082e+03  8.579293e+02  7.963809e+03      4.691581e-01   \n",
      "min    2.016010e+07  0.000000e+00  0.000000e+00      0.000000e+00   \n",
      "25%    2.016063e+07  1.288000e+03  7.392000e+03      0.000000e+00   \n",
      "50%    2.017023e+07  2.090000e+03  1.522900e+04      0.000000e+00   \n",
      "75%    2.017093e+07  2.574000e+03  2.211900e+04      1.000000e+00   \n",
      "max    2.018042e+07  3.470000e+03  2.739400e+04      1.000000e+00   \n",
      "\n",
      "       ActualMaturityDateKey  IssueDateKey  IssuedAmount  \n",
      "count           6.762021e+06  6.762021e+06  6.762021e+06  \n",
      "mean            2.024345e+07  2.013632e+07  2.679594e+09  \n",
      "std             7.967523e+04  3.421110e+04  2.247554e+10  \n",
      "min             2.015043e+07  1.955010e+07  0.000000e+00  \n",
      "25%             2.020031e+07  2.012102e+07  6.000000e+08  \n",
      "50%             2.022080e+07  2.014112e+07  1.000000e+09  \n",
      "75%             2.025120e+07  2.016052e+07  1.500000e+09  \n",
      "max             2.167020e+07  2.018052e+07  5.400000e+12  \n"
     ]
    }
   ],
   "source": [
    "print(\"Overview\")\n",
    "print(df.head(5))\n",
    "print(df.describe())"
   ]
  },
  {
   "cell_type": "code",
   "execution_count": 45,
   "metadata": {},
   "outputs": [
    {
     "name": "stdout",
     "output_type": "stream",
     "text": [
      "Nan Values\n",
      "CustomerIdx                0\n",
      "IsinIdx                    0\n",
      "BuySell                    0\n",
      "CustomerInterest           0\n",
      "Sector                     0\n",
      "Region_x                   0\n",
      "ActualMaturityDateKey      0\n",
      "IssueDateKey               0\n",
      "Seniority                  0\n",
      "Currency                   0\n",
      "ActivityGroup              0\n",
      "Region_y                   0\n",
      "Activity                   0\n",
      "RiskCaptain                0\n",
      "Owner                      0\n",
      "CompositeRating            0\n",
      "IndustrySector           852\n",
      "MarketIssue              937\n",
      "IssuedAmount               0\n",
      "CouponType                 0\n",
      "dtype: int64\n",
      "Nan Values\n",
      "CustomerIdx              0\n",
      "IsinIdx                  0\n",
      "BuySell                  0\n",
      "CustomerInterest         0\n",
      "Sector                   0\n",
      "Region_x                 0\n",
      "ActualMaturityDateKey    0\n",
      "IssueDateKey             0\n",
      "Seniority                0\n",
      "Currency                 0\n",
      "ActivityGroup            0\n",
      "Region_y                 0\n",
      "Activity                 0\n",
      "RiskCaptain              0\n",
      "Owner                    0\n",
      "CompositeRating          0\n",
      "IndustrySector           0\n",
      "MarketIssue              0\n",
      "IssuedAmount             0\n",
      "CouponType               0\n",
      "dtype: int64\n"
     ]
    }
   ],
   "source": [
    "print(\"Nan Values\")\n",
    "print(df_static.isnull().sum())\n",
    "\n",
    "df_static = df_static.apply(lambda x:x.fillna(x.mode().index[0]))\n",
    "\n",
    "print(\"Nan Values\")\n",
    "print(df_static.isnull().sum())"
   ]
  },
  {
   "cell_type": "code",
   "execution_count": 46,
   "metadata": {},
   "outputs": [
    {
     "data": {
      "text/plain": [
       "<matplotlib.axes._subplots.AxesSubplot at 0x107384c50>"
      ]
     },
     "execution_count": 46,
     "metadata": {},
     "output_type": "execute_result"
    },
    {
     "data": {
      "image/png": "[encoded data removed]",
      "text/plain": [
       "<matplotlib.figure.Figure at 0x10f75b898>"
      ]
     },
     "metadata": {},
     "output_type": "display_data"
    }
   ],
   "source": [
    "df_static[\"IndustrySector\"].value_counts().plot(kind='bar')"
   ]
  },
  {
   "cell_type": "code",
   "execution_count": 47,
   "metadata": {},
   "outputs": [
    {
     "data": {
      "text/plain": [
       "<matplotlib.axes._subplots.AxesSubplot at 0x10f71ee48>"
      ]
     },
     "execution_count": 47,
     "metadata": {},
     "output_type": "execute_result"
    },
    {
     "data": {
      "image/png": "[encoded data removed]",
      "text/plain": [
       "<matplotlib.figure.Figure at 0x10671eb70>"
      ]
     },
     "metadata": {},
     "output_type": "display_data"
    }
   ],
   "source": [
    "df_static[\"MarketIssue\"].value_counts().plot(kind='bar')"
   ]
  },
  {
   "cell_type": "code",
   "execution_count": null,
   "metadata": {},
   "outputs": [],
   "source": []
  },
  {
   "cell_type": "code",
   "execution_count": null,
   "metadata": {},
   "outputs": [],
   "source": []
  },
  {
   "cell_type": "code",
   "execution_count": null,
   "metadata": {
    "collapsed": true
   },
   "outputs": [],
   "source": []
  }
 ],
 "metadata": {
  "kernelspec": {
   "display_name": "Python 3",
   "language": "python",
   "name": "python3"
  },
  "language_info": {
   "codemirror_mode": {
    "name": "ipython",
    "version": 3
   },
   "file_extension": ".py",
   "mimetype": "text/x-python",
   "name": "python",
   "nbconvert_exporter": "python",
   "pygments_lexer": "ipython3",
   "version": "3.6.1"
  }
 },
 "nbformat": 4,
 "nbformat_minor": 2
}
