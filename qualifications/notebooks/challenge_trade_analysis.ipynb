{
 "cells": [
  {
   "cell_type": "code",
   "execution_count": 22,
   "metadata": {
    "collapsed": true
   },
   "outputs": [],
   "source": [
    "%matplotlib inline\n",
    "import pandas as pd\n",
    "import matplotlib\n",
    "import time\n",
    "import numpy as np\n",
    "import matplotlib.pyplot as plt\n",
    "TRADE_DATA = \"../data/Trade.csv\"\n",
    "CHALLENGE_DATA = \"../data/Challenge_20180423.csv\""
   ]
  },
  {
   "cell_type": "code",
   "execution_count": 23,
   "metadata": {
    "collapsed": true
   },
   "outputs": [],
   "source": [
    "df_challenge = pd.read_csv(CHALLENGE_DATA)\n",
    "df_trade = pd.read_csv(TRADE_DATA)"
   ]
  },
  {
   "cell_type": "code",
   "execution_count": 24,
   "metadata": {},
   "outputs": [
    {
     "name": "stdout",
     "output_type": "stream",
     "text": [
      "Overview\n",
      "  PredictionIdx   DateKey  CustomerIdx  IsinIdx BuySell  CustomerInterest\n",
      "0    a1e0d80784  20180423         1856    13323     Buy               NaN\n",
      "1    c2cc6cc2a8  20180423         1856     9230     Buy               NaN\n",
      "2    a8e94f6344  20180423         1780     9157     Buy               NaN\n",
      "3    758bae1e35  20180423         2129     9131     Buy               NaN\n",
      "4    02ab378ee8  20180423         1758     7151     Buy               NaN\n",
      "          DateKey    CustomerIdx        IsinIdx  CustomerInterest\n",
      "count    484758.0  484758.000000  484758.000000               0.0\n",
      "mean   20180423.0    1936.835749   15572.977102               NaN\n",
      "std           0.0     869.365212    8381.691252               NaN\n",
      "min    20180423.0       0.000000       1.000000               NaN\n",
      "25%    20180423.0    1288.000000    7950.000000               NaN\n",
      "50%    20180423.0    2106.000000   15592.000000               NaN\n",
      "75%    20180423.0    2574.000000   23841.000000               NaN\n",
      "max    20180423.0    3470.000000   27344.000000               NaN\n",
      "Overview\n",
      "   TradeDateKey  CustomerIdx  IsinIdx BuySell  NotionalEUR  Price TradeStatus  \\\n",
      "0      20161207         2789     8478    Sell     653168.0    0.0     Unknown   \n",
      "1      20170329         2574    14562     Buy    1656487.0    0.0     Unknown   \n",
      "2      20170418         2574     4747     Buy     939673.0    0.0     Unknown   \n",
      "3      20170310         2574     9885    Sell     708082.0    0.0     Unknown   \n",
      "4      20161116         2574     8885     Buy    1147709.0    0.0     Unknown   \n",
      "\n",
      "   CustomerInterest  \n",
      "0               1.0  \n",
      "1               1.0  \n",
      "2               1.0  \n",
      "3               1.0  \n",
      "4               1.0  \n",
      "       TradeDateKey   CustomerIdx       IsinIdx   NotionalEUR         Price  \\\n",
      "count  6.762021e+06  6.762021e+06  6.762021e+06  6.762021e+06  2.144088e+06   \n",
      "mean   2.016750e+07  1.922354e+03  1.460369e+04  6.313228e+06  1.779008e+05   \n",
      "std    6.768082e+03  8.579293e+02  7.963809e+03  2.712408e+08  1.318503e+06   \n",
      "min    2.016010e+07  0.000000e+00  0.000000e+00 -1.485547e+08 -9.999990e+05   \n",
      "25%    2.016063e+07  1.288000e+03  7.392000e+03  3.410980e+05  9.313780e+01   \n",
      "50%    2.017023e+07  2.090000e+03  1.522900e+04  8.812120e+05  1.010000e+02   \n",
      "75%    2.017093e+07  2.574000e+03  2.211900e+04  2.136842e+06  1.075000e+02   \n",
      "max    2.018042e+07  3.470000e+03  2.739400e+04  2.000000e+11  9.999999e+06   \n",
      "\n",
      "       CustomerInterest  \n",
      "count      6.762021e+06  \n",
      "mean       3.271106e-01  \n",
      "std        4.691581e-01  \n",
      "min        0.000000e+00  \n",
      "25%        0.000000e+00  \n",
      "50%        0.000000e+00  \n",
      "75%        1.000000e+00  \n",
      "max        1.000000e+00  \n"
     ]
    }
   ],
   "source": [
    "print(\"Overview\")\n",
    "print(df_challenge.head(5))\n",
    "print(df_challenge.describe())\n",
    "\n",
    "print(\"Overview\")\n",
    "print(df_trade.head(5))\n",
    "print(df_trade.describe())"
   ]
  },
  {
   "cell_type": "code",
   "execution_count": 25,
   "metadata": {},
   "outputs": [
    {
     "name": "stdout",
     "output_type": "stream",
     "text": [
      "          DateKey   CustomerIdx       IsinIdx  CustomerInterest_x  \\\n",
      "count   3193638.0  3.193638e+06  3.193638e+06                 0.0   \n",
      "mean   20180423.0  2.024466e+03  1.493910e+04                 NaN   \n",
      "std           0.0  8.547243e+02  7.976784e+03                 NaN   \n",
      "min    20180423.0  0.000000e+00  1.000000e+00                 NaN   \n",
      "25%    20180423.0  1.746000e+03  7.833000e+03                 NaN   \n",
      "50%    20180423.0  2.223000e+03  1.484900e+04                 NaN   \n",
      "75%    20180423.0  2.585000e+03  2.288900e+04                 NaN   \n",
      "max    20180423.0  3.470000e+03  2.734400e+04                 NaN   \n",
      "\n",
      "       TradeDateKey   NotionalEUR         Price  CustomerInterest_y  \n",
      "count  3.193638e+06  3.193638e+06  2.033936e+06        3.193638e+06  \n",
      "mean   2.017052e+07  1.375766e+07  1.202644e+05        6.490310e-01  \n",
      "std    7.151711e+03  3.810539e+08  1.085705e+06        4.772733e-01  \n",
      "min    2.016010e+07 -7.899616e+07 -9.999990e+05        0.000000e+00  \n",
      "25%    2.016122e+07  5.824840e+05  9.668700e+01        0.000000e+00  \n",
      "50%    2.017081e+07  9.732230e+05  1.012200e+02        1.000000e+00  \n",
      "75%    2.018011e+07  2.006063e+06  1.078940e+02        1.000000e+00  \n",
      "max    2.018042e+07  9.300000e+10  9.999999e+06        1.000000e+00  \n",
      "  PredictionIdx   DateKey  CustomerIdx  IsinIdx BuySell_x  CustomerInterest_x  \\\n",
      "0    a1e0d80784  20180423         1856    13323       Buy                 NaN   \n",
      "1    c2cc6cc2a8  20180423         1856     9230       Buy                 NaN   \n",
      "2    c2cc6cc2a8  20180423         1856     9230       Buy                 NaN   \n",
      "3    c2cc6cc2a8  20180423         1856     9230       Buy                 NaN   \n",
      "4    c2cc6cc2a8  20180423         1856     9230       Buy                 NaN   \n",
      "\n",
      "   TradeDateKey BuySell_y  NotionalEUR    Price TradeStatus  \\\n",
      "0      20171117      Sell    1106531.0      0.0     Unknown   \n",
      "1      20171108       Buy    1078749.0      0.0     Unknown   \n",
      "2      20170213       Buy    1023422.0      0.0   NotTraded   \n",
      "3      20180124      Sell     772609.0 -99999.0     Unknown   \n",
      "4      20180405       Buy    1099080.0  99999.0     Unknown   \n",
      "\n",
      "   CustomerInterest_y  \n",
      "0                 1.0  \n",
      "1                 1.0  \n",
      "2                 1.0  \n",
      "3                 1.0  \n",
      "4                 1.0  \n",
      "242379 out of 484758 interactions in challange already happened\n"
     ]
    }
   ],
   "source": [
    "def intersect(df1, df2, columns):\n",
    "    df1 = df1.drop_duplicates(columns)\n",
    "    df2 = df2.drop_duplicates(columns)\n",
    "    merged = df1.append(df2)\n",
    "    return merged[merged.duplicated(columns)]\n",
    "\n",
    "df = pd.merge(df_challenge, df_trade, on=[\"CustomerIdx\", \"IsinIdx\"], how=\"left\")\n",
    "print(df.describe())\n",
    "print(df.head())\n",
    "\n",
    "df = intersect(df_trade, df_challenge, [\"CustomerIdx\", \"IsinIdx\"])\n",
    "print(\"{} out of {} interactions in challange already happened\".format(df.shape[0], df_challenge.shape[0]))"
   ]
  },
  {
   "cell_type": "code",
   "execution_count": 26,
   "metadata": {},
   "outputs": [],
   "source": [
    "train = df_trade[df_trade[\"TradeDateKey\"] < 20180415]\n",
    "test = df_trade[df_trade[\"TradeDateKey\"] >= 20180415]\n",
    "positive_samples = df_trade[df_trade[\"TradeDateKey\"] >= 20180415]\n",
    "negative_samples = df_trade[(df_trade[\"TradeDateKey\"] >= 20171122) & (df_trade[\"TradeDateKey\"] < 20180415)]"
   ]
  },
  {
   "cell_type": "code",
   "execution_count": 27,
   "metadata": {},
   "outputs": [
    {
     "name": "stdout",
     "output_type": "stream",
     "text": [
      "15466 out of 26124 interactions in challange already happened\n"
     ]
    }
   ],
   "source": [
    "df = intersect(train, positive_samples, [\"CustomerIdx\", \"IsinIdx\"])\n",
    "print(\"{} out of {} interactions in challange already happened\".format(df.shape[0], positive_samples.shape[0]))"
   ]
  },
  {
   "cell_type": "code",
   "execution_count": 28,
   "metadata": {
    "collapsed": true
   },
   "outputs": [],
   "source": [
    "def generate_test_set_new(df, from_date=20180415, to_date=None, from_date_label=20171122):\n",
    "\t\t\"\"\"\n",
    "\t\t\tThe method creates a dataframe for testing purposes similar to the one \n",
    "\t\t\tof the competition. It uses the last 6 months interactions as negative labels.\n",
    "\n",
    "\t\t\t@args\n",
    "\t\t\t\tdf : DataFrame -> entire Trade Table.\n",
    "\t\t\t\tfrom_date : int -> corresponding tot the date in which \n",
    "\t\t\t\t\twe start the week of test.\n",
    "\t\t\t\tfrom_date_label : int -> representing the starting date from\n",
    "\t\t\t\t\twhich we start to collect the negative samples.\n",
    "\t\t\t\tto_date : int -> date representing the end of the week.\n",
    "\t\t\t@return\n",
    "\t\t\t\ttest_set : DataFrame -> with 1 week of positive and negative \n",
    "\t\t\t\t\tsamples from the week considered and the previous 6 months.\n",
    "\t\t\"\"\"\n",
    "\t\t# Delete Holding Values\n",
    "\t\tdf = df[df[\"TradeStatus\"] != \"Holding\"]\n",
    "\n",
    "\t\t# Drop Useless Columns\n",
    "\t\tdf = df.drop([\"TradeStatus\", \"NotionalEUR\", \"Price\"], axis=1)\n",
    "\n",
    "\t\t# One Hot Encoding for Sell and Buy\n",
    "\t\tdf = pd.get_dummies(df, columns=['BuySell'])\n",
    "\t\t\n",
    "\t\tif to_date is None:\n",
    "\t\t\tpositive_samples = df[df[\"TradeDateKey\"] >= from_date]\n",
    "\t\t\tpositive_samples_neg = df[df[\"TradeDateKey\"] >= from_date]\n",
    "\t\telse:\n",
    "\t\t\tpositive_samples = df[(df[\"TradeDateKey\"] >= from_date) & (df[\"TradeDateKey\"] < to_date)]\n",
    "\t\t\tpositive_samples_neg = df[(df[\"TradeDateKey\"] >= from_date) & (df[\"TradeDateKey\"] < to_date)]\n",
    "\n",
    "\t\tprint(positive_samples.describe())\n",
    "\n",
    "\t\tpositive_samples_neg[\"BuySell_Buy\"] = positive_samples[\"BuySell_Sell\"]\n",
    "\t\tpositive_samples_neg[\"BuySell_Sell\"] = positive_samples[\"BuySell_Buy\"]\n",
    "\t\tpositive_samples_neg[\"CustomerInterest\"] = positive_samples_neg[\"CustomerInterest\"]\\\n",
    "            .apply(lambda x: 0 if x > 0 else x)\n",
    "\t\t\n",
    "\t\t# Negative Samples\n",
    "\t\tnegative_samples = df[(df[\"TradeDateKey\"] >= from_date_label) & (df[\"TradeDateKey\"] < from_date)]\n",
    "\t\tnegative_samples_neg = df[(df[\"TradeDateKey\"] >= from_date_label) & (df[\"TradeDateKey\"] < from_date)]\n",
    "\n",
    "\t\t# Opposite Positive\n",
    "\t\tpositive_samples_neg[\"BuySell_Buy\"] = negative_samples[\"BuySell_Sell\"]\n",
    "\t\tpositive_samples_neg[\"BuySell_Sell\"] = negative_samples[\"BuySell_Buy\"]\n",
    "\n",
    "\t\t# Double Negative Samples\n",
    "\t\tnegative_samples_neg = df[(df[\"TradeDateKey\"] >= from_date_label) & (df[\"TradeDateKey\"] < from_date)]\n",
    "\t\tnegative_samples_neg[\"BuySell_Buy\"] = negative_samples[\"BuySell_Sell\"]\n",
    "\t\tnegative_samples_neg[\"BuySell_Sell\"] = negative_samples[\"BuySell_Buy\"]\n",
    "\n",
    "\t\t# Put to zero all the negative\n",
    "\t\tnegative_samples[\"CustomerInterest\"] = negative_samples[\"CustomerInterest\"]\\\n",
    "\t\t\t.apply(lambda x: 0 if x > 0 else x)\n",
    "\t\tnegative_samples_neg[\"CustomerInterest\"] = negative_samples_neg[\"CustomerInterest\"]\\\n",
    "\t\t\t.apply(lambda x: 0 if x > 0 else x)\n",
    "\n",
    "\t\t# Concatanate Negative and Positive Samples\n",
    "\t\ttest_set = pd.concat([positive_samples, negative_samples, positive_samples_neg, negative_samples_neg])\n",
    "\t\ttest_set = test_set.drop([\"TradeDateKey\"], axis=1)\n",
    "\n",
    "\t\t# Unique Values\n",
    "\t\ttest_set = test_set.groupby(['CustomerIdx', 'IsinIdx', \"BuySell_Sell\", \"BuySell_Buy\"]).sum()\n",
    "\t\ttest_set = test_set.reset_index(level=['CustomerIdx', 'IsinIdx', \"BuySell_Sell\", \"BuySell_Buy\"])\n",
    "\t\ttest_set[\"CustomerInterest\"] = test_set[\"CustomerInterest\"].apply(lambda x: 1 if x > 1 else x)\n",
    "\n",
    "\t\t# Reorder the columns\n",
    "\t\ttest_set = test_set[['CustomerIdx', 'IsinIdx', \"BuySell_Buy\", \"BuySell_Sell\", 'CustomerInterest']]\n",
    "\n",
    "\t\treturn test_set"
   ]
  },
  {
   "cell_type": "code",
   "execution_count": 30,
   "metadata": {},
   "outputs": [
    {
     "name": "stdout",
     "output_type": "stream",
     "text": [
      "       TradeDateKey   CustomerIdx       IsinIdx  CustomerInterest  \\\n",
      "count  2.180200e+04  21802.000000  21802.000000           21802.0   \n",
      "mean   2.018042e+07   1890.160306  15974.516237               1.0   \n",
      "std    1.363429e+00    872.990067   8497.143710               0.0   \n",
      "min    2.018042e+07      0.000000      7.000000               1.0   \n",
      "25%    2.018042e+07   1155.000000   8408.000000               1.0   \n",
      "50%    2.018042e+07   2044.000000  15793.000000               1.0   \n",
      "75%    2.018042e+07   2573.000000  24454.750000               1.0   \n",
      "max    2.018042e+07   3470.000000  27357.000000               1.0   \n",
      "\n",
      "        BuySell_Buy  BuySell_Sell  \n",
      "count  21802.000000  21802.000000  \n",
      "mean       0.486148      0.513852  \n",
      "std        0.499820      0.499820  \n",
      "min        0.000000      0.000000  \n",
      "25%        0.000000      0.000000  \n",
      "50%        0.000000      1.000000  \n",
      "75%        1.000000      1.000000  \n",
      "max        1.000000      1.000000  \n"
     ]
    },
    {
     "name": "stderr",
     "output_type": "stream",
     "text": [
      "/Users/filippopedrazzini/anaconda/lib/python3.6/site-packages/ipykernel_launcher.py:35: SettingWithCopyWarning: \n",
      "A value is trying to be set on a copy of a slice from a DataFrame.\n",
      "Try using .loc[row_indexer,col_indexer] = value instead\n",
      "\n",
      "See the caveats in the documentation: http://pandas.pydata.org/pandas-docs/stable/indexing.html#indexing-view-versus-copy\n",
      "/Users/filippopedrazzini/anaconda/lib/python3.6/site-packages/ipykernel_launcher.py:36: SettingWithCopyWarning: \n",
      "A value is trying to be set on a copy of a slice from a DataFrame.\n",
      "Try using .loc[row_indexer,col_indexer] = value instead\n",
      "\n",
      "See the caveats in the documentation: http://pandas.pydata.org/pandas-docs/stable/indexing.html#indexing-view-versus-copy\n",
      "/Users/filippopedrazzini/anaconda/lib/python3.6/site-packages/ipykernel_launcher.py:37: SettingWithCopyWarning: \n",
      "A value is trying to be set on a copy of a slice from a DataFrame.\n",
      "Try using .loc[row_indexer,col_indexer] = value instead\n",
      "\n",
      "See the caveats in the documentation: http://pandas.pydata.org/pandas-docs/stable/indexing.html#indexing-view-versus-copy\n",
      "/Users/filippopedrazzini/anaconda/lib/python3.6/site-packages/ipykernel_launcher.py:44: SettingWithCopyWarning: \n",
      "A value is trying to be set on a copy of a slice from a DataFrame.\n",
      "Try using .loc[row_indexer,col_indexer] = value instead\n",
      "\n",
      "See the caveats in the documentation: http://pandas.pydata.org/pandas-docs/stable/indexing.html#indexing-view-versus-copy\n",
      "/Users/filippopedrazzini/anaconda/lib/python3.6/site-packages/ipykernel_launcher.py:45: SettingWithCopyWarning: \n",
      "A value is trying to be set on a copy of a slice from a DataFrame.\n",
      "Try using .loc[row_indexer,col_indexer] = value instead\n",
      "\n",
      "See the caveats in the documentation: http://pandas.pydata.org/pandas-docs/stable/indexing.html#indexing-view-versus-copy\n",
      "/Users/filippopedrazzini/anaconda/lib/python3.6/site-packages/ipykernel_launcher.py:49: SettingWithCopyWarning: \n",
      "A value is trying to be set on a copy of a slice from a DataFrame.\n",
      "Try using .loc[row_indexer,col_indexer] = value instead\n",
      "\n",
      "See the caveats in the documentation: http://pandas.pydata.org/pandas-docs/stable/indexing.html#indexing-view-versus-copy\n",
      "/Users/filippopedrazzini/anaconda/lib/python3.6/site-packages/ipykernel_launcher.py:50: SettingWithCopyWarning: \n",
      "A value is trying to be set on a copy of a slice from a DataFrame.\n",
      "Try using .loc[row_indexer,col_indexer] = value instead\n",
      "\n",
      "See the caveats in the documentation: http://pandas.pydata.org/pandas-docs/stable/indexing.html#indexing-view-versus-copy\n",
      "/Users/filippopedrazzini/anaconda/lib/python3.6/site-packages/ipykernel_launcher.py:53: SettingWithCopyWarning: \n",
      "A value is trying to be set on a copy of a slice from a DataFrame.\n",
      "Try using .loc[row_indexer,col_indexer] = value instead\n",
      "\n",
      "See the caveats in the documentation: http://pandas.pydata.org/pandas-docs/stable/indexing.html#indexing-view-versus-copy\n",
      "/Users/filippopedrazzini/anaconda/lib/python3.6/site-packages/ipykernel_launcher.py:54: SettingWithCopyWarning: \n",
      "A value is trying to be set on a copy of a slice from a DataFrame.\n",
      "Try using .loc[row_indexer,col_indexer] = value instead\n",
      "\n",
      "See the caveats in the documentation: http://pandas.pydata.org/pandas-docs/stable/indexing.html#indexing-view-versus-copy\n"
     ]
    },
    {
     "name": "stdout",
     "output_type": "stream",
     "text": [
      "326503 out of 440737 interactions in challange already happened\n"
     ]
    }
   ],
   "source": [
    "test_set_gen = generate_test_set_new(df_trade)\n",
    "train = pd.get_dummies(train, columns=['BuySell'])\n",
    "df = intersect(train, test_set_gen, [\"CustomerIdx\", \"IsinIdx\", \"BuySell_Buy\", \"BuySell_Sell\"])\n",
    "print(\"{} out of {} interactions in challange already happened\".format(df.shape[0], test_set_gen.shape[0]))"
   ]
  },
  {
   "cell_type": "code",
   "execution_count": null,
   "metadata": {
    "collapsed": true
   },
   "outputs": [],
   "source": []
  }
 ],
 "metadata": {
  "kernelspec": {
   "display_name": "Python 3",
   "language": "python",
   "name": "python3"
  },
  "language_info": {
   "codemirror_mode": {
    "name": "ipython",
    "version": 3
   },
   "file_extension": ".py",
   "mimetype": "text/x-python",
   "name": "python",
   "nbconvert_exporter": "python",
   "pygments_lexer": "ipython3",
   "version": "3.6.1"
  }
 },
 "nbformat": 4,
 "nbformat_minor": 2
}
