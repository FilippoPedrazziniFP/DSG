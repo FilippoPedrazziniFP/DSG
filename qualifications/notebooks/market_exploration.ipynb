{
 "cells": [
  {
   "cell_type": "code",
   "execution_count": 1,
   "metadata": {
    "collapsed": true
   },
   "outputs": [],
   "source": [
    "%matplotlib inline\n",
    "import pandas as pd\n",
    "import matplotlib\n",
    "import numpy as np\n",
    "import matplotlib.pyplot as plt\n",
    "MARKET_DATA = \"../data/Market.csv\""
   ]
  },
  {
   "cell_type": "code",
   "execution_count": 2,
   "metadata": {},
   "outputs": [
    {
     "data": {
      "text/plain": [
       "Index(['IsinIdx', 'DateKey', 'Price', 'Yield', 'ZSpread'], dtype='object')"
      ]
     },
     "execution_count": 2,
     "metadata": {},
     "output_type": "execute_result"
    }
   ],
   "source": [
    "df_market = pd.read_csv(MARKET_DATA)\n",
    "df_market.columns"
   ]
  },
  {
   "cell_type": "code",
   "execution_count": 17,
   "metadata": {},
   "outputs": [
    {
     "name": "stdout",
     "output_type": "stream",
     "text": [
      "         IsinIdx   DateKey   Price  Yield  ZSpread\n",
      "2795104        1  20170102  107.75  7.467    5.061\n",
      "2806440        1  20170103  106.75  7.567    5.177\n",
      "2817795        1  20170104  106.00  7.643    5.267\n",
      "2829163        1  20170105  106.75  7.567    5.258\n",
      "2840561        1  20170106  106.75  7.567    5.203\n",
      "106.8\n"
     ]
    }
   ],
   "source": [
    "bond = 1\n",
    "starting_date = 20170101\n",
    "ending_date = 20170108\n",
    "\n",
    "df_m = df_market[(df_market[\"IsinIdx\"] == bond) & (df_market[\"DateKey\"] >= starting_date) \n",
    "                 & (df_market[\"DateKey\"] < ending_date)]\n",
    "print(df_m)\n",
    "\n",
    "\"\"\"df_m[\"AVG_price\"] = \n",
    "df_m[\"AVG_yield\"] = \n",
    "df_m[\"AVG_zspread\"] = \"\"\"\n",
    "row = np.squeeze(df_m.groupby(\"IsinIdx\").mean().values)\n",
    "print(row[1])"
   ]
  },
  {
   "cell_type": "code",
   "execution_count": 4,
   "metadata": {
    "scrolled": false
   },
   "outputs": [
    {
     "name": "stdout",
     "output_type": "stream",
     "text": [
      "Overview\n",
      "      IsinIdx   DateKey    Price  Yield  ZSpread\n",
      "0           1  20160101  104.250  7.835    5.505\n",
      "1832    23880  20160101   99.810  3.169    1.506\n",
      "1833    23943  20160101   99.739  2.909    1.231\n",
      "1834    23944  20160101  100.408  3.749    1.614\n",
      "1835    23963  20160101  101.790  3.654    1.518\n",
      "         IsinIdx   DateKey    Price  Yield  ZSpread\n",
      "6964346    14667  20180420  100.777  3.330    0.494\n",
      "6964345    14666  20180420  103.430  3.230    0.409\n",
      "6964344    14650  20180420   95.179  3.124    0.235\n",
      "6964342    14648  20180420   99.557  2.911    0.085\n",
      "9867746    25748  20180420  100.961  2.874    2.623\n",
      "            IsinIdx       DateKey         Price         Yield       ZSpread\n",
      "count  9.867747e+06  9.867747e+06  9.867747e+06  9.867747e+06  9.867747e+06\n",
      "mean   1.393869e+04  2.016819e+07  1.054736e+02  1.882719e+01  2.120735e+03\n",
      "std    7.479061e+03  6.875624e+03  1.206965e+01  4.072348e+03  3.197921e+05\n",
      "min    1.000000e+00  2.016010e+07  1.500000e-01 -1.170163e+04 -2.484130e+02\n",
      "25%    7.536000e+03  2.016083e+07  1.002250e+02  1.156000e+00  2.930000e-01\n",
      "50%    1.404700e+04  2.017033e+07  1.030020e+02  2.574000e+00  9.310000e-01\n",
      "75%    2.076000e+04  2.017102e+07  1.084760e+02  3.901000e+00  1.937000e+00\n",
      "max    2.734000e+04  2.018042e+07  2.144400e+02  5.301371e+06  1.411321e+08\n",
      "         DateKey  Price  Yield  ZSpread\n",
      "IsinIdx                                \n",
      "1            601    601    601      601\n",
      "7            601    601    601      601\n",
      "13           163    163    163      163\n",
      "15           600    600    600      600\n",
      "16           217    217    217      217\n",
      "19           456    456    456      456\n",
      "20           389    389    389      389\n",
      "21           406    406    406      406\n",
      "23           268    268    268      268\n",
      "24           268    268    268      268\n",
      "29           416    416    416      416\n",
      "30           396    396    396      396\n",
      "31           396    396    396      396\n",
      "32           354    354    354      354\n",
      "38            65     65     65       65\n",
      "41            92     92     92       92\n",
      "65           269    269    269      269\n",
      "66           269    269    269      269\n",
      "67           600    600    600      600\n",
      "69           459    459    459      459\n",
      "70           600    600    600      600\n",
      "71           600    600    600      600\n",
      "73           600    600    600      600\n",
      "75           577    577    577      577\n",
      "76           419    419    419      419\n",
      "79           600    600    600      600\n",
      "81           600    600    600      600\n",
      "82           600    600    600      600\n",
      "83           600    600    600      600\n",
      "84           600    600    600      600\n",
      "...          ...    ...    ...      ...\n",
      "27300          9      9      9        9\n",
      "27301          9      9      9        9\n",
      "27302          8      8      8        8\n",
      "27303          8      8      8        8\n",
      "27304          8      8      8        8\n",
      "27305          8      8      8        8\n",
      "27306          8      8      8        8\n",
      "27307          8      8      8        8\n",
      "27308          4      4      4        4\n",
      "27309          4      4      4        4\n",
      "27310          7      7      7        7\n",
      "27311          8      8      8        8\n",
      "27312          7      7      7        7\n",
      "27314          4      4      4        4\n",
      "27315          7      7      7        7\n",
      "27316          7      7      7        7\n",
      "27317          4      4      4        4\n",
      "27318          4      4      4        4\n",
      "27321          4      4      4        4\n",
      "27323          5      5      5        5\n",
      "27326          5      5      5        5\n",
      "27327          4      4      4        4\n",
      "27328          5      5      5        5\n",
      "27329          4      4      4        4\n",
      "27335          5      5      5        5\n",
      "27336          4      4      4        4\n",
      "27337          5      5      5        5\n",
      "27338          4      4      4        4\n",
      "27339          4      4      4        4\n",
      "27340          4      4      4        4\n",
      "\n",
      "[22374 rows x 4 columns]\n"
     ]
    }
   ],
   "source": [
    "print(\"Overview\")\n",
    "print(df_market.head(5))\n",
    "print(df_market.tail(5))\n",
    "print(df_market.describe())\n",
    "\n",
    "# Sort the dataframe based on Date\n",
    "df_market = df_market.sort_values(\"DateKey\", ascending=True)\n",
    "\n",
    "df_market[df_market[\"DateKey\"] >= 20180101].describe()\n",
    "print(df_market.groupby(\"IsinIdx\").count())"
   ]
  },
  {
   "cell_type": "code",
   "execution_count": null,
   "metadata": {
    "collapsed": true
   },
   "outputs": [],
   "source": []
  }
 ],
 "metadata": {
  "kernelspec": {
   "display_name": "Python 3",
   "language": "python",
   "name": "python3"
  },
  "language_info": {
   "codemirror_mode": {
    "name": "ipython",
    "version": 3
   },
   "file_extension": ".py",
   "mimetype": "text/x-python",
   "name": "python",
   "nbconvert_exporter": "python",
   "pygments_lexer": "ipython3",
   "version": "3.6.1"
  }
 },
 "nbformat": 4,
 "nbformat_minor": 2
}
